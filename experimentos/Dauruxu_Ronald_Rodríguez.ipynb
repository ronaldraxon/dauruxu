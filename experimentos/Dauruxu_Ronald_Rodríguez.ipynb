{
 "cells": [
  {
   "cell_type": "markdown",
   "metadata": {},
   "source": [
    "# Dauruxu: Detección de emociones y actividades para la asistencia en la evaluación de factores de riesgo psicosocial\n",
    "\n",
    "_Fecha: Agosto de 2020_  \n",
    "_Profesor: _   \n",
    "_Presentado por: Ronald Fernando Rodríguez Barbosa_"
   ]
  },
  {
   "cell_type": "markdown",
   "metadata": {},
   "source": [
    "### Resumen. \n",
    "El objetivo del documento es aplicar herramientas avanzadas en analítica en tres secciones. La primera sección introduce el objetivo del proyecto, la segunda cección desarrolla y aborda el caso de experimentación , y la tercera sección, presenta las posibles limitaciones y evolutivos. El caso seleccionado, está relacionado con la detección de emociones y actividades efectuadas por personas para la asistencia en la evaluación de factores de riesgo psicosocial. Esta asistencia tiene como alcance ofrecer información adicional a los items incluidos en los cuestionarios en los mecanismos de evaluación convencional. Es importante aclarar, que el objetivo no es sustuir el trabajo de los profesionales de salud y seguridad en el trabajo, sino ofrecer datos complementarios para efectuar evaluaciones mejor informadas. La metodología propuesta se basará en los cinco de los pasos principales dispuestos en CRISP-DM: comprensión del negocio, comprensión de los datos, preparación de los datos, modelamiento y evaluación de los modelos propuestos."
   ]
  },
  {
   "cell_type": "markdown",
   "metadata": {},
   "source": [
    "## 1. Comprensión del negocio - Business Understanding\n",
    "\n",
    "Existen situaciones en el entorno, que pueden influir sobre la salud de las personas. A estas situaciones, se les conoce como factores de riesgo y son definidas como cualquier rasgo, característica o exposición de un individuo que aumente su probabilidad de sufrir una enfermedad o lesión, según la Organización Mundial de la Salud[1]. Dentro del contexto mencionado, se pueden encontrar factores de riesgo de tipo químico[2]; factores de riesgo de tipo biológico[3]; factores de riesgo ambiental[4] y factores de riesgo de tipo psicosocial (FRP). Los FRP involucran aspectos físicos del entorno como el ruido, la iluminación o la temperatura [5][6] y aspectos psicológicos en las personas como el estrés[7] y la fatiga laboral causada por la carga de trabajo o el exceso de horas trabajadas [8][9]. La motivación principal del presente proyecto se centrará en las emociones y actividades relacionadas con los FRP. \n",
    "\n",
    "Dentro del contexto de los FRP, existen investigaciones en las que se demuestra que algunas condiciones, generan efectos relacionados con la salud física como los desórdenes musculo esqueléticos[10] o la conducta de las personas como el sedentarismo[11]. Por otra parte, existen otros estudios que evidencian efectos relacionados con la salud mental como el estrés[12] y trastornos psicológicos como la ansiedad[13] o la depresión[14]. En Colombia, el Ministerio de Salud reportó un total de 9.653 casos de enfermedades de naturaleza laboral durante el 2017, manifestados en diferentes actividades económicas como: comercio, hoteles, restaurantes, servicios domésticos, entre otros[15]. En el 2018, se registró un total de 155.167 casos de atención por riesgos potenciales para la salud, relacionados con circunstancias socioeconómicas y psicosociales, de los cuales 31.557 ocurrieron en la ciudad de Bogotá. Esta problemática crece año a año, según las estadísticas del Observatorio Nacional de Salud Mental[16].\n",
    "\n",
    "En la actualidad, existen métodos que facilitan la evaluación de FRP y que se han desarrollado a partir de la integración de modelos, que explican los mecanismos de generación de estrés asociados al trabajo. Blach, Sahagun y Cervantes, exponen un trabajo en el que consolidan los principales cuestionarios para la evaluación de FRP[17]. Otros trabajos como el de Abdullah Alotaibi[18] y el de Christian Hederich[19], abordan la relación entre la calidad de sueño, el estrés y el rendimiento académico. Sin embargo, estos procedimientos son susceptibles a la variabilidad e incluso subjetividad en las medidas[20], ya que la evaluación de los estudios no sólo se hace con una población reducida , sino que se efectúa mediante el uso de cuestionarios relacionados a aspectos y/o actividades diarias, que no son observados directamente por los especialistas en salud relevantes, sino que son referidos por las personas[21]. \n",
    "\n",
    "## 1.1 Objetivos de negocio\n",
    "\n",
    "#### 1.1.1 Antecedentes\n",
    "\n",
    "Existen referentes que han abordado algunos aspectos relacionados con la salud mental de las personas[22][23]. Algunos de estos trabajos, han dado como resultado, soluciones tecnológicas para el monitoreo de algunos aspectos específicos de los FRP que van desde la implementación de controles de carga en las extremidades y otras partes del cuerpo a partir de sensores[24], hasta la evaluación de estrés en personas, empleando imágenes de electroencefalograma[25]. Trabajos como los de Zack Zhu[26] o Raffaele Gravina[27], sugieren perspectivas alternativas, basadas en el reconocimiento de estado de ánimo, a partir de la captura de señales con dispositivos electrónicos portátiles. Si bien estos avances representan un gran potencial para la industria de manufactura, la construcción, entre otros[28], existen estudios como el de Shall Mark[29], en el que se manifiestan como limitaciones para su adopción, las implicaciones de costo; la interrupción de las actividades laborales, el carácter intrusivo representado en la incomodidad con los dispositivos y la privacidad de las personas. \n",
    "\n",
    "Otras aproximaciones, abordan la captura e integración con otras fuentes de datos, dando como resultado arquitecturas multimodales[30][31], en los que se aprovecha el procesamiento de imágenes de video, texto, señales, entre otros, para soportar el diagnóstico de emociones[32]. Trabajos como el de Le Yang[33] y Poria Soujana[34] sugieren la fusión de análisis de la paralingüística, la captura de respuesta de entrevistas, características del rostro que ha sido abordada ampliamente[35]-[38], y el movimiento de los ojos[39]. En estas aproximaciones, se evidencia un aporte significativo en el análisis de patrones de voz, y se abordan algunos aspectos de interés dentro de la evaluación de FRP. Sin embargo, el modo de video utilizado en las publicaciones mencionadas, se enfocan sólo en el reconocimiento facial, requiriendo la captura de primer plano del rostro de las personas y el uso de sensores, cuya implementación tiene algunas limitaciones como se mencionó anteriormente. Adicionalmente, no se incluyen mecanismos en el que se realice un monitoreo constante. \n",
    "\n",
    "### 1.1.2 Definición de objetivos\n",
    "\n",
    "Dado al abordaje que se la hado dado a los aspectos emocionales y actividades relacionadas con FRP, teniendo en cuenta la falta de observación directa, la carencia de un seguimiento automático e inteligente y las limitaciones de índole intrusivo, surge la pregunta: _¿Cómo calcular indicadores a partir de la detección de emociones y actividades para el monitoreo y apoyo a la evaluación factores de riesgos psicosociales, mediante un seguimiento automático no intrusivo, utilizando técnicas de inteligencia artificial y visión por computadora?_\n",
    "\n",
    "Frente a esta pregunta, se pueden encontrar diversos retos de índole tecnológico e ético. Sin embargo, sólo se abordarán los aspectos de índole tecnologico orientados a ampliar la valoración cuantitativa de escenarios de riesgo psicosocial en ambientes laborales y educativos, mediante el reconocimiento de emociones y actividades registradas en imágenes de video, empleando técnicas de inteligencia artificial (específicamente de machine learning). Con esta premisa en mente, se concibe para el proyecto el siguiente objetivos de negocio:\n",
    "\n",
    "* **ON_1 Establecer las métricas e indicadores potenciales a partir de la caracterización y la clasificación de emociones y actividades mediante el análisis de datos y uso de machine learning para la asistencia en la valoración de riesgo psicosocial.**\n",
    "\n",
    "### 1.1.3 Criterios de éxito de objetivos de negocio\n",
    "\n",
    "* CN_1. Establecer los indicadores de interés de FRP\n",
    "* CN_2. Para cada indicador determinar las métricas \n",
    "* CN_3. Para determinar las métricas identificar eventos de interés en las imagenes"
   ]
  },
  {
   "cell_type": "markdown",
   "metadata": {},
   "source": [
    "## 1.2 Objetivos de minería de datos\n",
    "\n",
    "Los objetivos de minería de datos estan destinados a aportar a los objetivos general del proyecto que es el de diseñar una arquitectura para la detección de emociones de personas y sus actividades, mediante la captura de video convencional no intrusivo y técnicas de inteligencia artificial, con el fin de brindar indicadores que apoyen en la evaluación de factores de riesgo psicosocial (FRP). Este objetivo se descompone en los siguientes objetivos específicos:\n",
    "\n",
    "1. Analizar las técnicas, modelos y herramientas orientadas al reconocimiento de personas, expresiones faciales y poses para la identificación de actividades y emociones, orientados a la evaluación de FRP. \n",
    "2. Diseñar una arquitectura para el seguimiento continuo de poses, movimientos corporales y gestos a través de video, para obtener indicadores de actividades y emociones, relacionados con FRP. \n",
    "3. Evaluar la precisión y utilidad potencial de la arquitectura propuesta, mediante su implementación parcial y experimentación controlada.\n",
    "\n",
    "Frente al alcance de los objetivos del proyecto, las tareas de minería se enfocan en establecer un modelo o conjunto de modelos para la clasificación de actividades y emociones. Las actividades y emociones de interés se encuentran relacionadas de forma implícita en las preguntas de los cuestionarios empleados para la evaluación de riesgo psicosocial. Entre los mecanismos explorados se encuentran los siguientes:\n",
    "\n",
    "\n",
    "| **Mecanismo de valoración** |\n",
    "|--------|\n",
    "|Pittsburgh Sleep Quality Index (PSQI) <br/> Kessler Psychological Distress Scale (K10) |\n",
    "|Ryff Scales of Psychological Well-being |\n",
    "|Perceived Scale Test (PSS) The Three-Factor Eating Questionnaire |\n",
    "|Survey of personal and social development |\n",
    "|Smoking-alcohol consumption and physical activities (IPAQ) The job content questionnaire (JCQ) Depression-anxiety and stress scale (DASS) |\n",
    "|Psychometric analysis and refinement of the Connor Davidson Resilience Scale (CD-RISC) The Dysfunctional Attitude Scale |\n",
    "|Maslach Burnout Inventory General Survey (MBI-GS)-NEO Five-Factor Inventory-Beck's Depression Inventory |\n",
    "|International Neuropsychiatric Interview |\n",
    "|The Psychosocial Risk Scale (PRS) |\n",
    "|Beck Depression Inventory (BDI) |\n",
    "|Cuestionario Encuesta de Calidad de Vida en el trabajo |\n",
    "|Cuestionario para la Evaluación del Estrés-Batería para la evaluación de factores de riesgo psicosocial\n",
    "|Utrecht Work Engagement Scale |\n",
    "|Cuestionario Psicosocial de Copenhague (CoPsoQ) |\n",
    "|El cuestionario FPSICO El Cuestionario de Bienestar Laboral General |\n",
    "|Hipótesis de la tensión del trabajo Karasek |\n",
    "|Hospital Anxiety and Depression Scale-Short-form Supportive Care Needs Survey |\n",
    "|Quality of Employment Surveys |\n",
    "\n",
    "\n",
    "Las emociones extraídas de la exploración se basan en las emociones básicas propuestas por Paul Ekman[]. Estas emociones son: Ira, Tristeza, Miedo y Felicidad. La ira y la tristeza son emociones relacionados a condiciones mentales como el estress y la depresión. Al ser dos emociones con una mayor relevancia dentro de los cuestionarios se tendrán en cuenta dentro del alcance de los objetivos de minería de datos. Por su parte, las actividades de interés seleccionadas están relacionadas con los hábitos alimenticios, consumo de tabaco, somnolencia, sedentarismo y ejercicio físico. Tanto las emociones como las actividades, requieren una descomposición a nivel de poses para la caracterización de las mismas. Esta caracterización estará soportada por el análisis exploratorio de los valores obtenidos por la capa de sensores de nivel medio de la arquitectura que permite la extracción de ubicaciones espaciales de las articulaciones del cuerpo de una persona. En otras palabras, para realizar las tareas de clasificación, no se partirá de un procesamiento de bajo nivel de las imágenes (escalado, segmentación, entre otros) sino que se emplearán librerías que extraen características de fotogramas que servirán como insumo para los mecanismos de clasificación. La **\"capa de sensorial\"** está compuesta por modulos creados con las librerias YOLO V4[] para la identificación de objetos, OpenPose[] para la extracción de puntos de articulación del cuerpo en personas y Deep SORT[] para el seguimiento y etiquetado de personas en las imágenes.\n",
    "\n",
    "### 1.2.1 Objetivos de la minería de datos\n",
    "\n",
    "Describir los retos tecnológicos \n",
    "\n",
    "* **OM_1 Elaborar la caracterización de emociones en términos de poses y gestos corporales, empleando el análisis exploratorio de los datos obtenidos por la \"capa sensorial\".**\n",
    "* **OM_2 Elaborar la caracterización de actividades en términos de poses y gestos corporales, empleando el análisis exploratorio de los datos obtenidos por la \"capa sensorial\".**\n",
    "* **OM_3 Construir y entrenar modelos de clasificación empleando redes neuronales artificiales de aprendizaje profundo (deep learning).**\n",
    "* **OM_4 Establecer el mecanismo de diferenciación y etiquetado de personas en imágenes de video en una sola fuente (Monocámara, multiples personas)**\n",
    "\n",
    "\n",
    "### 1.2.2 Criterio de éxito de la minería de datos\n",
    "\n",
    "* CM_1 Realizar la descomposición de emociones en términos de dinámica, duración, poses y objetos de contexto o relacionados\n",
    "* CM_2 Establecer las características relevantes para la clasificación de las emociones ira y tristeza\n",
    "* CM_3 Construir los modelos de clasificación para la emoción ira\n",
    "* CM_4 Realizar la descomposición de actividades en términos de poses y gestos corporales\n",
    "* CM_5 Establecer las características relevantes para la clasificación de actividades ingesta de alimentos, somnolencia, sedentarismo y exceso de trabajo\n",
    "* CM_6 Construir los modelos de clasificación para las actividades\n",
    "* CM_7 Métricas de sensibilidad, especificidad, exactitud, AUC, ROC\n"
   ]
  },
  {
   "cell_type": "markdown",
   "metadata": {
    "colab_type": "text",
    "id": "QZk8QJmUYbXE"
   },
   "source": [
    "## 2. Comprensión de los datos - Data Understanding\n",
    "Como se mencionó en la sección anterior, el conjunto de datos a estudiar, no corresponde directamente a imágenes. En su lugar será un conjunto de datos dispuesto por la combinación de componentes de reconocimiento de objetos y extracción de características. El componente para el reconocimiento de objetos estatá soportado por la libreria Yolo versión 4, el componente para la extracción de características es Open pose en conjunto con la librería deepsort para etiquetar y ennumerar las personas presentes en una imagen. Por otra parte, se relacionarán los mecanismos seleccionados de medición, los items o preguntas y las escalas de medición"
   ]
  },
  {
   "cell_type": "markdown",
   "metadata": {},
   "source": [
    "### 2.1 Recolección inicial y descripción de los datos - Métodos de evaluación y cuestionarios.\n",
    "\n",
    "Dentro de los métodos de evaluación de riesgo psicosocial, se encuentran los cuestionarios. Este tipo de método busca realizar un levantamiento de información del estado de las personas en diferentes dimensiones. Según el contexto, estas dimensiones pueden abordar aspectos demográficos, comportamentales, laborales, familiares, entre otros. Para este proyecto se toma como referencia algunos de estos cuestioarios, con el fin de extraer las actividades y emociones implícitas dentro de las preguntas. Debido a que existe una amplica gama de cuestiorios con variaciones en la cantidad de items y sus revisiones orientadas a un segmento demográfico específico, se seleccionan a aquellos mecanismos donde puedan encontrase preguntas relacionados con actividades o emociones y que adicionalmente exista un potencial en la identificación mediante imágenes de video. Adicionalmente, se tomarán dos escenarios clave para la medición de riesgo psicosocial. Estos dos escenarios comprenden el ambiente laboral, y el ambiente académico. Para el ambiente laboral, se tomarán como referencia las dimensiones de demandas cuantitativas, emocionales y de jornada de trabajo, establecidas en **Batería de Instrumentos para la evaluación de factores de riesgo psicosocial**[]. Por su parte, para el ambiente acádemico se tomarán como referencia las evaluaciones empleadas en trabajos de investigación, orientados a la evaluación psicosocial en este ambiente. Es importante aclarar que los mecanismos mencionados para este último caso no son excluyentes con los empleados en el ámbito laboral.\n",
    "\n",
    "En este primer punto de comprensión de datos, se extraerán características relevantes para las tareas de clasificación. Adicionalmente, a partir del enunciado de los items, se identificarán tanto métricas como posibles indicadores, en concordancia al objetivo **ON_1**. En adición a lo anteior se efectuará la descomposición de actividades y emociones en términos de poses "
   ]
  },
  {
   "cell_type": "markdown",
   "metadata": {},
   "source": [
    "#### 2.1.1 Definición de indicadores y métricas\n",
    "\n",
    "Para la definición de indicadores y métricas en términos de poses, se efectua la siguiente estrcutura de descomposición. Los indicadores están compuestos de métricas y estas están compuestos de la definición de actividades y emociones cuyo conteo será empleado para la operación artimética del indicador.\n",
    "\n",
    "* **Indicador**\n",
    "    * **Descripción**\n",
    "    * **Cuestionario**\n",
    "    * **Items relacionados**\n",
    "    * **Dominio**\n",
    "    * **Dimensión**\n",
    "    * **Operación**\n",
    "    * **Franja horaría de cuantificación**\n",
    "    * **Métrica 1 - Conteo de Actividades y/o Emociones**\n",
    "     * **Actividad 1 (Etiqueta - Label)**\n",
    "         * **Dinámica (Cambio en los puntos de articulaciones de una personas)**\n",
    "             * Leve (Ejemplos: dormir, meditar, sólamente hablar, pandicularse, estirar músculos)\n",
    "             * Moderada (Ejemplos: caminar, comer, beber, digitar en teclado)\n",
    "             * Severa (Ejemplos: correr, saltar, desplazar objetos, realizar pausas activas)\n",
    "         * **Duración**\n",
    "             * Infima -> máximo 2 segundos (Ejemplos: levantar un brazo o una pierna, sentarse, ponerse de pie, , dar un paso)\n",
    "             * Corta -> Entre 2 a 10 segundos (Ejemplos: mover el ratón, digitar en el teclado, dar varios pasos )\n",
    "             * Larga -> Mayor a 10 segundos (Ejemplos: trabajar, )\n",
    "         * **Poses principales**\n",
    "             * **Pose Rostro**\n",
    "               * Pose 1 \n",
    "               * Pose 2\n",
    "             * **Pose Cuerpo**\n",
    "               * Pose 1\n",
    "               * Pose 2\n",
    "         * **Objetos de contexto**\n",
    "             * Objeto 1\n",
    "             * Objeto 2\n",
    "     * **Actividad N (Etiqueta - Label)**\n",
    "         * **Dinámica**\n",
    "             * **Duración**\n",
    "             * **Poses principales**\n",
    "             * **Objetos de contexto**\n",
    "     * **Emoción 1 (Etiqueta - Label)**\n",
    "         * **Dinámica**\n",
    "             * **Duración**\n",
    "             * **Poses principales**\n",
    "             * **Objetos de contexto**\n",
    "     * **Emoción N (Etiqueta - Label)**\n",
    "         * **Dinámica**\n",
    "             * **Duración**\n",
    "             * **Poses principales**\n",
    "             * **Objetos de contexto**\n"
   ]
  },
  {
   "cell_type": "markdown",
   "metadata": {},
   "source": [
    "Los siguientes indicadores contemplan la relación de diferentes métricas, como por ejemplo la cantidad de tiempo empleado en trabajo en jornada laboral $t_{Tl}$, la cantidad de tiempo empleado en pausas activas en jornada laboral $t_{Pl}$ y las cantidades de trabajo y pausas empleadas en jornada extralaboral o adicional $t_{Ta}$ y $t_{Ta}$. Adicionalmente, se estipulan variables adicional como $h$, que corresponde al tiempo en horas del periodo a medir. Este periodo se especifica en horas de una jornada normal díaria (Ejemplo: 8 horas laborales díarias). \n",
    "\n",
    "Para la definición métricas en términos de actividades se toma una serie de secuencia de videos con una tasa de 30fps. Una actividad estará definida como un conjunto de poses que sugieren una actividad física y que tiene la característica de ser cíclica a lo largo del tiempo. Por ejemplo, la actividad caminar corresponde a un conjunto de poses similares que sugieren la ejecución cíclica de pasos. La evaluación de las actividades se efectuará para el conjunto de poses identificados en una cantidad específica de fotogramas acotados en una ventana de tiempo $V_{A}$. Dicha ventana se desplazará a lo largo de la cantidad total de fotogramas incluidos en una toma de video. "
   ]
  },
  {
   "cell_type": "markdown",
   "metadata": {},
   "source": [
    "#### **Indicador 1 - Relación tiempo de trabajo en jornada laboral vs tiempo de jornada laboral díaria - RTJD**\n",
    "\n",
    "**Descripción:**\n",
    "Lorem piososos Escala: Siempre, Casi siempre, Algunas veces, Casi nunca, Nunca\n",
    "\n",
    "**Cuestionario:** \n",
    "_Batería de Instrumentos para la evaluación de factores de riesgo psicosocial_\n",
    "\n",
    "**Items relacionados:** \n",
    "_15; Forma A_\n",
    "\n",
    "|Item| Pregunta | Aspecto | \n",
    "|----|----------|---------|\n",
    "|15  |Por la cantidad de trabajo que tengo debo trabajar sin parar | Actividad |\n",
    "\n",
    "**Dominio:** \n",
    "_Demandas del trabajo_ \n",
    "\n",
    "**Dimensión:** \n",
    "_Demandas cuantitativas_\n",
    "\n",
    "**Operación:** $ RTJD = (t_{Tl} / h)*100$\n",
    "\n",
    "**Franja horaria de cuantificación:** Horario laboral\n",
    "\n",
    "* **Métrica 1: Tiempo de trabajo en jornada laboral**\n",
    "    * **Utilizar equipo portatil de pie**\n",
    "      * **Dinámica (Cambio en los puntos de articulaciones de una personas)**\n",
    "        * Severa \n",
    "      * **Duración**\n",
    "        * Corta -> Entre 2 a 10 segundos\n",
    "      * **Poses principales**\n",
    "        * **Poses de rostro**\n",
    "          * No relevante para la métrica\n",
    "        * **Poses de cuerpo**\n",
    "          * De pie, cargando un equipo de cómputo portatil, mano sobre el portatil\n",
    "          * Pie efecuando un paso, cargando un equipo de cómputo portatil, mano sobre el equipo de cómputo portatil\n",
    "          * De pie, cargando un equipo tablet, mano sobre el dispositivo tablet\n",
    "          * Pie efecuando un paso, cargando un equipo tablet, mano sobre el equipo tablet\n",
    "        * **Objetos de contexto**\n",
    "          * Equipo de cómputo portatil\n",
    "          * Tablet\n",
    "    * **Utilizar equipo de cómputo sentado**\n",
    "      * **Dinámica (Cambio en los puntos de articulaciones de una personas)**\n",
    "        * Moderada\n",
    "      * **Duración**\n",
    "        * Corta -> Entre 2 a 10 segundos\n",
    "      * **Poses principales**\n",
    "        * **Poses de rostro**\n",
    "          * No relevante para la métrica\n",
    "        * **Poses de cuerpo**\n",
    "          * Sentado, manos sobre el teclado\n",
    "          * Sentado, manos sobre el ratón\n",
    "        * **Objetos de contexto**\n",
    "          * Equipo de cómputo portatil\n",
    "          * Teclado\n",
    "          * Mouse\n",
    "    * **Escribir sentado**\n",
    "      * **Dinámica (Cambio en los puntos de articulaciones de una personas)**\n",
    "        * Moderada\n",
    "      * **Duración**\n",
    "        * Corta -> Entre 2 a 10 segundos\n",
    "      * **Poses principales**\n",
    "        * **Poses de rostro**\n",
    "          * No relevante para la métrica\n",
    "        * **Poses de cuerpo**\n",
    "          * Sentado, manos sobre el escritorio, con lapiz o boligrafo en mano\n",
    "        * **Objetos de contexto**\n",
    "          * Libro\n",
    "          * Hojas de papel\n",
    "          * Lapiz"
   ]
  },
  {
   "cell_type": "markdown",
   "metadata": {},
   "source": [
    "#### **Indicador 2 - Relación tiempo de pausas activas en jornada laboral vs tiempo de laboral díaria - RPJD**\n",
    "\n",
    "**Descripción:**\n",
    "Lorem piososos Escala: Siempre, Casi siempre, Algunas veces, Casi nunca, Nunca\n",
    "\n",
    "**Cuestionario:** \n",
    "_Batería de Instrumentos para la evaluación de factores de riesgo psicosocial_\n",
    "\n",
    "**Items relacionados:** \n",
    "_32; Forma A_\n",
    "\n",
    "|Item| Pregunta | Aspecto | \n",
    "|----|----------|---------|\n",
    "|32  |En mi trabajo es posible tomar pausas para descansar | Actividad | \n",
    "\n",
    "**Dominio:** \n",
    "_Demandas del trabajo_ \n",
    "\n",
    "**Dimensión:** \n",
    "_Demandas cuantitativas_\n",
    "\n",
    "**Operación:** $RPJD= (t_{Pl}/h)*100$\n",
    "\n",
    "**Franja horaria de cuantificación:** Horario laboral\n",
    "\n",
    "* **Métrica 1: Tiempo de pausas activas en jornada laboral**\n",
    "    * **Estirar músculos**\n",
    "      * **Dinámica (Cambio en los puntos de articulaciones de una personas)**\n",
    "        * Leve \n",
    "      * **Duración**\n",
    "        * Corta -> Entre 2 a 10 segundos\n",
    "      * **Poses principales**\n",
    "        * **Poses de rostro**\n",
    "          * No relevante para la métrica\n",
    "        * **Poses de cuerpo**\n",
    "          * De pie, brazos extendidos a los lados\n",
    "          * De pie, brazos extendidos al frente\n",
    "          * De pie, hombros desplazados\n",
    "          * Rodilla flexionadas\n",
    "          * Tronco flexionado\n",
    "        * **Objetos de contexto**\n",
    "          * No relevante\n",
    "    * **Tomar líquido**\n",
    "      * **Dinámica (Cambio en los puntos de articulaciones de una personas)**\n",
    "        * Leve\n",
    "      * **Duración**\n",
    "        * Corta -> Entre 2 a 10 segundos\n",
    "      * **Poses principales**\n",
    "        * **Poses de rostro**\n",
    "          * No relevante para la métrica\n",
    "        * **Poses de cuerpo**\n",
    "          * De pie, brazo flexionado, sosteniendo un recipiente, cabeza inclinada ligeramente hacia atrás, objeto (botella o tasa) cerca al rostro\n",
    "          * Sentado, brazo flexionado, sosteniendo un recipiente, cabeza inclinada ligeramente hacia atrás, objeto (botella o tasa) cerca al rostro\n",
    "        * **Objetos de contexto**\n",
    "          * Botella\n",
    "          * Tasa"
   ]
  },
  {
   "cell_type": "markdown",
   "metadata": {},
   "source": [
    "#### **Indicador 3 - Relación tiempo de trabajo adicional vs tiempo de jornada laboral díaria - RTJED**\n",
    "\n",
    "**Descripción:**\n",
    "Lorem piososos Escala: Siempre, Casi siempre, Algunas veces, Casi nunca, Nunca\n",
    "\n",
    "**Cuestionario:** \n",
    "_Batería de Instrumentos para la evaluación de factores de riesgo psicosocial_\n",
    "\n",
    "**Items relacionados:** \n",
    "_15; Forma A_\n",
    "\n",
    "|Item| Pregunta | Aspecto | \n",
    "|----|----------|---------|\n",
    "|13  |Por la cantidad de trabajo que tengo debo quedarme tiempo adicional | Actividad |\n",
    "    \n",
    "**Dominio:** \n",
    "_Demandas del trabajo_ \n",
    "\n",
    "**Dimensión:** \n",
    "_Demandas cuantitativas_\n",
    "\n",
    "**Operación:** $RTJED = (t_{Ta}/h)*100$\n",
    "\n",
    "**Franja horaria de cuantificación:** Horario extra-laboral\n",
    "\n",
    "* **Métrica 1: Tiempo de trabajo en jornada extra laboral**\n",
    "\n",
    "* **Utilizar equipo portatil de pie**\n",
    "     * **Dinámica (Cambio en los puntos de articulaciones de una personas)**\n",
    "        * Severa \n",
    "     * **Duración**\n",
    "        * Corta -> Entre 2 a 10 segundos\n",
    "     * **Poses principales**\n",
    "        * **Poses de rostro**\n",
    "          * No relevante para la métrica\n",
    "        * **Poses de cuerpo**\n",
    "          * De pie, cargando un equipo de cómputo portatil, mano sobre el portatil\n",
    "          * Pie efecuando un paso, cargando un equipo de cómputo portatil, mano sobre el equipo de cómputo portatil\n",
    "          * De pie, cargando un equipo tablet, mano sobre el dispositivo tablet\n",
    "          * Pie efecuando un paso, cargando un equipo tablet, mano sobre el equipo tablet\n",
    "        * **Objetos de contexto**\n",
    "          * Equipo de cómputo portatil\n",
    "          * Tablet\n",
    "    * **Utilizar equipo de cómputo sentado**\n",
    "      * **Dinámica (Cambio en los puntos de articulaciones de una personas)**\n",
    "        * Moderada\n",
    "      * **Duración**\n",
    "        * Corta -> Entre 2 a 10 segundos\n",
    "      * **Poses principales**\n",
    "        * **Poses de rostro**\n",
    "          * No relevante para la métrica\n",
    "        * **Poses de cuerpo**\n",
    "          * Sentado, manos sobre el teclado\n",
    "          * Sentado, manos sobre el ratón\n",
    "        * **Objetos de contexto**\n",
    "          * Equipo de cómputo portatil\n",
    "          * Teclado\n",
    "          * Mouse\n",
    "    * **Escribir sentado**\n",
    "      * **Dinámica (Cambio en los puntos de articulaciones de una personas)**\n",
    "        * Moderada\n",
    "      * **Duración**\n",
    "        * Corta -> Entre 2 a 10 segundos\n",
    "      * **Poses principales**\n",
    "        * **Poses de rostro**\n",
    "          * No relevante para la métrica\n",
    "        * **Poses de cuerpo**\n",
    "          * Sentado, manos sobre el escritorio, con lapiz o boligrafo en mano\n",
    "        * **Objetos de contexto**\n",
    "          * Libro\n",
    "          * Hojas de papel\n",
    "          * Lapiz\n",
    "\n",
    "    \n",
    "\n",
    "\n",
    "\n"
   ]
  },
  {
   "cell_type": "markdown",
   "metadata": {},
   "source": [
    "* Relación tiempo de pausas activas vs tiempo de jornada extra laboral díaria - RPJED\n",
    "    $RPJD= (t_{Pa}/t_{Ta})*100$\n",
    "    \n",
    "* Porcentaje promedio de RTJED a la semana - PPRTJED\n",
    "    $PPRTJED = \\sum_{i=1} RTJED_{i}$"
   ]
  },
  {
   "cell_type": "markdown",
   "metadata": {},
   "source": [
    "* **Dominio: _Demandas del trabajo_** \n",
    "* **Dimensiones: _Demandas de la jornada de trabajo_**\n",
    "\n",
    "|Item| Pregunta | Aspecto | Poses involucradas | Objetos involucrados | Características adicionales |\n",
    "|----|----------|---------|--------------------|----------------------|-----------------------------|\n",
    "|31  |Trabajo en horario de noche | Actividad | Poses sugiriendo trabajo: Sentado con espalda recta, con brazos inclinados a casi 90° | Laptop, teclado, herramientas | Fecha y hora de captura de pose, frecuencia de captura |\n",
    "|33  |Mi trabajo me exige laborar en días de descanso, festivos o fines de semana | Actividad | Poses sugiriendo trabajo: Sentado con espalda recta, con brazos inclinados a casi 90° | Laptop, teclado, herramientas | Fecha y hora de captura de pose, frecuencia de captura |\n",
    "|34  |En mi trabajo puedo tomar fines de semana o días de descanso al mes | Actividad | Poses sugiriendo trabajo: Sentado con espalda recta, con brazos inclinados a casi 90° | Laptop, teclado, herramientas | Fecha y hora de captura de pose, frecuencia de captura |\n",
    "\n",
    "* **Métricas evidenciadas**    \n",
    "    * Cantidad de tiempo en pose de trabajo posterior a la jornada laboral\n",
    "    * Cantidad de tiempo en pose de pausas posterior a la jornada laboral\n",
    "* **Indicadores evidenciados**\n",
    "    * Relación tiempo en pose de pausas vs pose de trabajo al día - posterior a la jornada laboral (Porcentaje)\n",
    "    * Relación tiempo en pose de pausas vs pose de trabajo a la semana - posterior a la jornada laboral (Porcentaje)\n",
    "    * Relación tiempo en pose de pausas vs pose de trabajo al mes - posterior a la jornada laboral (Porcentaje)\n",
    "    \n",
    "Para el item 33 es importante destacar que el registro está dirigido a un entorno laboral, luego el tiempo laborado en casa no sería registrado en el alcance actual.\n"
   ]
  },
  {
   "cell_type": "markdown",
   "metadata": {},
   "source": [
    "* **Dominio: _Liderazgo y relaciones sociales en el trabajo_**\n",
    "* **Dimensiones: _Relaciones sociales en el trabajo_**\n",
    "\n",
    "|Item| Pregunta | Aspecto | Poses involucradas | Objetos involucrados | Características adicionales |\n",
    "|----|----------|---------|--------------------|----------------------|-----------------------------|\n",
    "|76  |Me agrada el ambiente de mi grupo de trabajo | Actividad, Emoción | | | |\n",
    "|79  |Me siento a gusto con mis compañeros de trabajo | Actividad, Emoción | | | |\n",
    "|83  |Mi grupo de trabajo es muy unido | Actividad, Emoción | | | |\n",
    "|84  |Las personas en mi trabajo me hacen sentir parte del grupo | Actividad, Emoción | | | |\n",
    "\n",
    "Este conjunto de items involucra, poses, personas y un comportamiento. \n",
    "¿Podría ser posible el registro de emociones al estar cerca a otras personas y registrar cambios de\n",
    "emociones en su ausencia?\n",
    "\n",
    "* **Métricas evidenciadas**    \n",
    "* **Indicadores evidenciados**"
   ]
  },
  {
   "cell_type": "markdown",
   "metadata": {},
   "source": [
    "#### 2.1.2 **Escala de estrés percibido (Perceived Stress Scale PSS)**\n",
    "\n",
    "\n",
    "##### Descripción de items\n",
    "\n",
    "|Item| Pregunta | Aspecto | Poses involucradas | Objetos involucrados | Características adicionales |\n",
    "|----|----------|---------|--------------------|----------------------|-----------------------------|\n",
    "|1  |En el último mes, ¿con qué frecuencia se ha sentido molesto por algo que sucedió inesperadamente? | Emoción | | | |\n",
    "|2  |En el último mes, ¿con qué frecuencia te has sentido nervioso(a) y \"estresado(a)\"? | Emoción | | | |\n",
    "|3  |En el último mes, ¿con qué frecuencia ha podido controlar las irritaciones en su vida? | Emoción | | | |\n",
    "|4  |En el último mes, ¿con qué frecuencia se ha enojado por cosas que estaban fuera de su control? | Emoción | | | |\n",
    "\n",
    "* **Métricas evidenciadas**\n",
    "    * Cantidad de eventos registrados con emoción ira al día (1 Conjunto de fotogramas cuenta como 1 evento hasta el cambio de emoción)\n",
    "    * Cantidad de eventos registrados con emoción ira a la semana\n",
    "    * Cantidad de eventos registrados con emoción ira al mes\n",
    "    * Cantidad de eventos registrados durante jornada \n",
    "    * Cantidad de eventos registrados durante periodo específico (Ej: Temporada de parciales en ambiente académico; días cercanos a fin de mes o cierres)\n",
    "* **Indicadores evidenciados**\n",
    "    * Tiempo promedio de duración de episodios con emoción de ira\n",
    "    * Promedio de episodios con emoción de ira\n",
    "    "
   ]
  },
  {
   "cell_type": "markdown",
   "metadata": {},
   "source": [
    "#### 2.1.3 **Escala de depresión, ansiedad y estrés (Depression, anxiety and stress scale DASS21)**\n",
    "\n",
    "\n",
    "##### Descripción de items\n",
    "\n",
    "|Item| Pregunta | Aspecto | Poses involucradas | Objetos involucrados | Características adicionales |\n",
    "|----|----------|---------|--------------------|----------------------|-----------------------------|\n",
    "|5  |Experimento dificultad para respirar (por ejemplo, respiración excesivamente rápida, dificultad para respirar en ausencia de esfuerzo físico) | Actividad, Emoción | | | |\n",
    "|6  |Experimento temblores (por ejemplo, en las manos) | Actividad, Emoción | | | |\n",
    "|7  |Me he encontrado agitando(a) | Actividad, Emoción | | | |\n",
    "|8  |Me resulta difícil relajarme | Actividad, Emoción | | | |\n",
    "|9  |Me siento abatido y triste | Actividad, Emoción | | | |\n",
    "|10  |No puedo entusiasmarme por nada | Actividad, Emoción | | | |\n",
    "|11  |Me siento asustado(a) sin ninguna buena razón | Actividad, Emoción | | | |\n",
    "\n",
    "* **Métricas evidenciadas**\n",
    "\n",
    "* **Indicadores evidenciados**\n"
   ]
  },
  {
   "cell_type": "markdown",
   "metadata": {},
   "source": [
    "#### 2.1.4 **El cuestionario de alimentación de tres factores (The Three-Factor Eating Questionnaire)**\n",
    "\n",
    "##### Descripción de items\n",
    "\n",
    "|Item| Pregunta | Aspecto | Poses involucradas | Objetos involucrados | Características adicionales |\n",
    "|----|----------|---------|--------------------|----------------------|-----------------------------|\n",
    "|12  |Cuando me siento ansioso(a), me encuentro comiendo  | Actividad | | | |\n",
    "|13  |A veces, cuando empiezo a comer, parece que no puedo parar | Actividad | | | |\n",
    "|14  |Cuando me siento triste, a menudo como en exceso | Actividad | | | |\n",
    "\n",
    "* **Métricas evidenciadas**\n",
    "    * Cantidad de eventos al día registrados con la actividad \"comiendo\" (1 Evento se toma en un periodo de 10 min y se renueva al finalizar este periodo)\n",
    "    \n",
    "* **Indicadores evidenciados**\n",
    "    * Promedio de eventos al día registrados con la actividad \"comiendo\" durante el mes.\n",
    "\n",
    "Si bien el cuestionario sugiere emociones que están correlacionadas con la frecuencia de ingesta de alimentos, sólo se realizará el registro del evento. Las características del tipo de comida no se tendrán\n",
    "en cuenta."
   ]
  },
  {
   "cell_type": "markdown",
   "metadata": {},
   "source": [
    "#### 2.1.5 **Escala de angustia psicológica de Kessler (The Kessler Psychological Distress Scale-K10)**\n",
    "\n",
    "##### Descripción de items\n",
    "\n",
    "|Item| Pregunta | Aspecto | Poses involucradas | Objetos involucrados | Características adicionales |\n",
    "|----|----------|---------|--------------------|----------------------|-----------------------------|\n",
    "|16  | Durante los últimos 30 días, ¿aproximadamente con qué frecuencia se sintió cansado(a) sin una buena razón?  | Actividad | Poses de cansancio o somnolencia: | | |\n",
    "|17  |Durante los últimos 30 días, ¿con qué frecuencia se sintió nervioso(a)? | Actividad | | | |\n",
    "|18  |Durante los últimos 30 días, ¿con qué frecuencia se sintió tan nervioso que nada pudo calmarlo? | Actividad | | | |\n",
    "|19  |Durante los últimos 30 días, ¿aproximadamente con qué frecuencia se sintió tan inquieto que no pudo quedarse quieto(a)? | Actividad | | | |\n",
    "|20  |Durante los últimos 30 días, ¿con qué frecuencia se sintió deprimido(a)? | Emociones | | | |\n",
    "|21  |Durante los últimos 30 días, ¿con qué frecuencia se sintió tan triste que nada pudo animarlo(a)? | Emoción | | | |\n",
    "\n",
    "* **Métricas evidenciadas**\n",
    "\n",
    "* **Indicadores evidenciados**\n",
    "\n"
   ]
  },
  {
   "cell_type": "markdown",
   "metadata": {},
   "source": [
    "#### 2.1.6 **The Pittsburgh Sleep Quality Index (PSQI)**\n",
    "\n",
    "##### Descripción de items\n",
    "\n",
    "|Item| Pregunta | Aspecto | Poses involucradas | Objetos involucrados | Características adicionales |\n",
    "|----|----------|---------|--------------------|----------------------|-----------------------------|\n",
    "|22  | Durante el último mes, ¿con qué frecuencia ha tenido problemas para mantenerse despierto mientras conduce, come o participa en actividades sociales? | Actividad | Poses de cansancio o somnolencia: | | |\n",
    "\n",
    "* **Métricas evidenciadas**\n",
    "\n",
    "* **Indicadores evidenciados**\n"
   ]
  },
  {
   "cell_type": "markdown",
   "metadata": {},
   "source": [
    "#### 2.1.7 **Encuesta de desarrollo personal y social (Survey of personal a social development)**\n",
    "\n",
    "##### Descripción de items\n",
    "\n",
    "\n",
    "|Item| Pregunta | Aspecto | Poses involucradas | Objetos involucrados | Características adicionales |\n",
    "|----|----------|---------|--------------------|----------------------|-----------------------------|\n",
    "|23  | En el último mes, ¿con qué frecuencia hizo ejercicio aeróbico? | Actividad | Poses de cansancio o somnolencia: | | |\n",
    "|24  | En el último mes, ¿cuál es el número promedio de días a la semana que realizó ejercicio aeróbico? | Actividad | Poses de cansancio o somnolencia: | | |\n",
    "|25  | En la última semana, ¿cuántos días hizo ejercicio aeróbico? | Actividad | Poses de cansancio o somnolencia: | | |\n",
    "|27  | Durante el último mes, ¿cuántos cigarrillos ha fumado en un día promedio? | Actividad | Poses de cansancio o somnolencia: | | |\n",
    "|29  | En el último mes, ¿se ha sentido triste casi todo el tiempo? | Actividad | Poses de cansancio o somnolencia: | | |\n",
    "|30  | En el último mes, ¿aproximadamente cuántas veces te emborrachaste?  | Actividad | Poses de cansancio o somnolencia: | | |\n",
    "|31  |¿Sueles comer bocadillos en lugar de comer comidas regulares?  | Actividad | Poses de cansancio o somnolencia: | | |\n",
    "\n",
    "* **Métricas evidenciadas**\n",
    "\n",
    "* **Indicadores evidenciados**\n"
   ]
  },
  {
   "cell_type": "markdown",
   "metadata": {},
   "source": [
    "#### 2.1.8 **Escala de agotamiento ocupacional (Occupational burnout scale)**\n",
    "\n",
    "##### Descripción de items\n",
    "\n",
    "|Item| Pregunta | Aspecto | Poses involucradas | Objetos involucrados | Características adicionales |\n",
    "|----|----------|---------|--------------------|----------------------|-----------------------------|\n",
    "|40  | Tienes dolores de cabeza | Actividad | Poses de cansancio o somnolencia: | | |\n",
    "|41  | Le duelen las articulaciones de los brazos y las piernas | Actividad | Poses de cansancio o somnolencia: | | |\n",
    "|42  | Tiene dolor en el abdomen | Actividad | Poses de cansancio o somnolencia: | | |\n",
    "|43  | Te duele la espalda y el cuello | Actividad | Poses de cansancio o somnolencia: | | |\n",
    "|44  | Te duele el pecho | Actividad | Poses de cansancio o somnolencia: | | |\n",
    "\n",
    "* **Métricas evidenciadas**\n",
    "\n",
    "* **Indicadores evidenciados**\n"
   ]
  },
  {
   "cell_type": "markdown",
   "metadata": {},
   "source": [
    "#### 2.1.9 **Cuestionario de evaluación del estrés (Stress Assessment Questionnaire)**\n",
    "\n",
    "##### Descripción de items\n",
    "\n",
    "Ha sentido \n",
    "\n",
    "|Item| Pregunta | Aspecto | Poses involucradas | Objetos involucrados | Características adicionales |\n",
    "|----|----------|---------|--------------------|----------------------|-----------------------------|\n",
    "|45  | Dolor de cuello y espalda o tensión muscular | Actividad | Poses de cansancio o somnolencia: | | |\n",
    "|46  | Problemas respiratorios | Actividad | Poses de cansancio o somnolencia: | | |\n",
    "|47  | Dolor de cabeza | Actividad | Poses de cansancio o somnolencia: | | |\n",
    "|48  | Trastornos del sueño como somnolencia durante el día o insomnio por la noche | Actividad | Poses de cansancio o somnolencia: | | |\n",
    "|49  | Dificultad para quedarse quieto o dificultad para iniciar actividades | Actividad | Poses de cansancio o somnolencia: | | |\n",
    "|50  | Dificultad en las relaciones con otras personas | Actividad | Poses de cansancio o somnolencia: | | |\n",
    "|52  | Cansancio, tedio o desgana | Actividad | Poses de cansancio o somnolencia: | | |\n",
    "|54  | Consumo de bebidas alcohólicas o café o cigarrillo | Actividad | Poses de cansancio o somnolencia: | | |\n",
    " \n",
    "* **Métricas evidenciadas**\n",
    "\n",
    "* **Indicadores evidenciados**"
   ]
  },
  {
   "cell_type": "markdown",
   "metadata": {},
   "source": [
    "#### 2.1.10 **Cuestionario psicosocial de Copenhague (Copenhagen psychosocial questionnaire)**\n",
    "\n",
    "##### Descripción de items\n",
    "\n",
    "|Item| Pregunta | Aspecto | Poses involucradas | Objetos involucrados | Características adicionales |\n",
    "|----|----------|---------|--------------------|----------------------|-----------------------------|\n",
    "|55  | ¿Tienes que trabajar muy rápido? | Actividad | Poses de cansancio o somnolencia: | | |\n",
    "|56  | ¿Tiene que quedarse después de la hora de salida establecida? | Actividad | Poses de cansancio o somnolencia: | | |\n",
    "|57  | ¿Tu trabajo requiere que ocultes tus emociones? | Actividad | Poses de cansancio o somnolencia: | | |\n",
    "|58  | ¿Su trabajo está aislado del de sus colegas? | Actividad | Poses de cansancio o somnolencia: | | |\n",
    "|59  | ¿Puede hablar con sus colegas mientras trabaja? | Actividad | Poses de cansancio o somnolencia: | | |\n",
    "\n",
    "* **Métricas evidenciadas**\n",
    "\n",
    "* **Indicadores evidenciados**"
   ]
  },
  {
   "cell_type": "markdown",
   "metadata": {},
   "source": [
    "#### 2.1.11 **Inventario de depresión de Beck (Beck depression inventory)**\n",
    "\n",
    "##### Descripción de items\n",
    "\n",
    "|Item| Pregunta | Aspecto | Poses involucradas | Objetos involucrados | Características adicionales |\n",
    "|----|----------|---------|--------------------|----------------------|-----------------------------|\n",
    "|60  | Me siento triste la mayor parte del tiempo | Actividad | Poses de cansancio o somnolencia: | | |\n",
    "|61  | Estoy triste todo el tiempo | Actividad | Poses de cansancio o somnolencia: | | |\n",
    "|62  | Estoy tan triste o infeliz que no puedo soportarlo | Actividad | Poses de cansancio o somnolencia: | | |\n",
    "|63  | Ya no lloro más de lo que solía hacerlo | Actividad | Poses de cansancio o somnolencia: | | |\n",
    "|64  | Lloro más de lo que solía llorar | Actividad | Poses de cansancio o somnolencia: | | |\n",
    "|65  | I cry over every little thing | Actividad | Poses de cansancio o somnolencia: | | |\n",
    "|66  | Me siento más inquieto o agitado de lo habitual | Actividad | Poses de cansancio o somnolencia: | | |\n",
    "|67  | Estoy tan inquieto o agitado que es difícil quedarme quieto | Actividad | Poses de cansancio o somnolencia: | | |\n",
    "|68  | Estoy tan inquieto o agitado que tengo que seguir moviéndome o haciendo algo | Actividad | Poses de cansancio o somnolencia: | | |\n",
    "|69  | No estoy más irritable de lo habitual Emoción | Actividad | Poses de cansancio o somnolencia: | | |\n",
    "|70  | I am more irritable than usual Emotion | Actividad | Poses de cansancio o somnolencia: | | |\n",
    "|71  | Estoy mucho más irritable que de costumbre | Actividad | Poses de cansancio o somnolencia: | | |\n",
    "|72  | Estoy irritable todo el tiempo | Actividad | Poses de cansancio o somnolencia: | | |\n",
    "|73  | No he experimentado ningún cambio en mi apetito | Actividad | Poses de cansancio o somnolencia: | | |\n",
    "|74  | Mi apetito es algo menor de lo habitual | Actividad | Poses de cansancio o somnolencia: | | |\n",
    "|75  | Mi apetito es algo mayor de lo habitual | Actividad | Poses de cansancio o somnolencia: | | |\n",
    "|76  | Mi apetito es mucho menor que antes | Actividad | Poses de cansancio o somnolencia: | | |\n",
    "|77  | Mi apetito es mucho mayor de lo habitual | Actividad | Poses de cansancio o somnolencia: | | |\n",
    "|78  | No tengo nada de apetito | Actividad | Poses de cansancio o somnolencia: | | |\n",
    "|79  | Anhelo comida todo el tiempo | Actividad | Poses de cansancio o somnolencia: | | |\n",
    "\n",
    "\n",
    "* **Métricas evidenciadas**\n",
    "\n",
    "* **Indicadores evidenciados**"
   ]
  },
  {
   "cell_type": "markdown",
   "metadata": {},
   "source": [
    "### 2.2 Recolección inicial y descripción de los datos - Datos de capa sensórica\n",
    "Inicialmente, se identificarán los datos obtenidos de la librería YOLO. Para esto, se tomará como referencia una fotografía con pocos objetos con el fin de facilitar la validación de los datos obtenidos con los incluidos en la imagen. Se extrae la muestra de la librería en línea https://es.freeimages.com/"
   ]
  },
  {
   "cell_type": "markdown",
   "metadata": {},
   "source": [
    "**Procesamiento con YOLO V4**"
   ]
  },
  {
   "cell_type": "markdown",
   "metadata": {},
   "source": [
    "<img src=\"trabajando-1280x960.jpg\" alt=\"Drawing1\" style=\"width: 600px;\"/> <img src=\"trabajando-1280x960_YoloResult.jpg\" alt=\"Drawing2\" style=\"width: 600px;\"/>"
   ]
  },
  {
   "cell_type": "markdown",
   "metadata": {},
   "source": [
    "Como se puede apreciar la libreria Yolo no solo clasifica los objetos en el fotograma, sino que adicionalmente, establece un recuadro enmarcando dicho objeto. La red neuronal empleada en el Yolo puede clasificar hasta 80 elementos diferentes, que son encontrados en el conjunto de datos COCO (https://cocodataset.org/). Dentro de la etiqueta, se puede pareciar la etiqueta de la clase y la puntuación calculada (entre 0 y 1) de que el objeto perteneza a dicha etiqueta. La formación del fotograma puede ser extraída en formato json y tiene la siguiente estructura: (configuración de ejecución en https://github.com/AlexeyAB/darknet)"
   ]
  },
  {
   "cell_type": "code",
   "execution_count": 7,
   "metadata": {},
   "outputs": [
    {
     "data": {
      "text/plain": [
       "[{'frame_id': 1,\n",
       "  'filename': '/mydrive/images/working-3-1570154-1280x960.jpg',\n",
       "  'objects': [{'class_id': 63,\n",
       "    'name': 'laptop',\n",
       "    'relative_coordinates': {'center_x': 0.286327,\n",
       "     'center_y': 0.695712,\n",
       "     'width': 0.423636,\n",
       "     'height': 0.489396},\n",
       "    'confidence': 0.990541},\n",
       "   {'class_id': 0,\n",
       "    'name': 'person',\n",
       "    'relative_coordinates': {'center_x': 0.61735,\n",
       "     'center_y': 0.605183,\n",
       "     'width': 0.774312,\n",
       "     'height': 0.820614},\n",
       "    'confidence': 0.980852}]}]"
      ]
     },
     "execution_count": 7,
     "metadata": {},
     "output_type": "execute_result"
    }
   ],
   "source": [
    "import json\n",
    "data_yolo = json.load(open('trabajando-1280x960_YoloResult.json'))\n",
    "data_yolo"
   ]
  },
  {
   "cell_type": "markdown",
   "metadata": {},
   "source": [
    "La estructura json contiene la información del nombre del fotograma empleado y la descripción de los objetos identificados. Dentro de esta descripción de encuentran las coordenadas x, y del centro del rectángulo y sus dimensiones de alto y ancho. Este rectángulo es empleado para el encuadre de identificación del objeto. En adición a esto, contiene la etiqueta de la clase y su calificación. Ahora se empleará la librería Openpose para procesar la misma imagen y reconocer la estructura."
   ]
  },
  {
   "cell_type": "markdown",
   "metadata": {},
   "source": [
    "**Procesamiento con Openpose**"
   ]
  },
  {
   "cell_type": "markdown",
   "metadata": {},
   "source": [
    "<img src=\"working-3-1570154-1280x960_rendered_cuerpo.png\" alt=\"Drawing1\" style=\"width: 600px;\"/> <img src=\"working-3-1570154-1280x960_rendered_manos.png\" alt=\"Drawing2\" style=\"width: 600px;\"/>\n",
    "<img src=\"working-3-1570154-1280x960_rendered_rostro.png\" alt=\"Drawing1\" style=\"width: 600px;\"/> <img src=\"working-3-1570154-1280x960_rendered_completo.png\" alt=\"Drawing2\" style=\"width: 600px;\"/>"
   ]
  },
  {
   "cell_type": "markdown",
   "metadata": {},
   "source": [
    "Se puede apreciar la extracción de puntos de articulación que son extraídos mediante la librería openpose. Es importante aclarar, que la ejecución de estos ejercicios iniciales se realiza en un ambiente soportado con tarjetas video, lo que permite una mayor precisión al momento de calcular los puntos. La extructura del archivo json que puede ser extraída es la siguiente:"
   ]
  },
  {
   "cell_type": "code",
   "execution_count": 5,
   "metadata": {},
   "outputs": [
    {
     "data": {
      "text/plain": [
       "{'version': 1.3,\n",
       " 'people': [{'person_id': [-1],\n",
       "   'pose_keypoints_2d': [],\n",
       "   'face_keypoints_2d': [],\n",
       "   'hand_left_keypoints_2d': [],\n",
       "   'hand_right_keypoints_2d': [],\n",
       "   'pose_keypoints_3d': [],\n",
       "   'face_keypoints_3d': [],\n",
       "   'hand_left_keypoints_3d': [],\n",
       "   'hand_right_keypoints_3d': []}]}"
      ]
     },
     "execution_count": 5,
     "metadata": {},
     "output_type": "execute_result"
    }
   ],
   "source": [
    "import json\n",
    "data_openpose_muestra = json.load(open('working-3-1570154-1280x960_keypoints_muestra.json'))\n",
    "data_openpose_muestra"
   ]
  },
  {
   "cell_type": "markdown",
   "metadata": {},
   "source": [
    "<img src=\"keypoints_hand.png\" alt=\"Drawing2\" style=\"width: 400px;\"/><img src=\"keypoints_pose_25.png\" alt=\"Drawing1\" style=\"width: 300px;\"/> <img src=\"keypoints_face.png\" alt=\"Drawing2\" style=\"width: 600px;\"/> "
   ]
  },
  {
   "cell_type": "markdown",
   "metadata": {},
   "source": [
    "**Imágenes extraídas de la documentación oficial de OpenPose (https://github.com/CMU-Perceptual-Computing-Lab/openpose/blob/master/doc/output.md)**"
   ]
  },
  {
   "cell_type": "markdown",
   "metadata": {},
   "source": [
    "Openpose posee la capacidad de calcular la posición de 25 puntos clave del cuerpo, 70 puntos del rostro y 20 puntos de las manos. Esta capacidad puede verse limitada por aspectos como la oclusión, la calidad de la imágen, la cantidad de personas detectadas y los parámetros de configuración del mecanismo de Open pose. "
   ]
  },
  {
   "cell_type": "code",
   "execution_count": null,
   "metadata": {},
   "outputs": [],
   "source": []
  },
  {
   "cell_type": "code",
   "execution_count": null,
   "metadata": {},
   "outputs": [],
   "source": []
  },
  {
   "cell_type": "code",
   "execution_count": null,
   "metadata": {},
   "outputs": [],
   "source": []
  },
  {
   "cell_type": "code",
   "execution_count": null,
   "metadata": {},
   "outputs": [],
   "source": []
  },
  {
   "cell_type": "markdown",
   "metadata": {},
   "source": [
    "### 2.2. Exploración y verificación de la calidad de los datos"
   ]
  },
  {
   "cell_type": "code",
   "execution_count": null,
   "metadata": {},
   "outputs": [],
   "source": [
    "Se requiere determinar las unidades para cada uno de los frameworks"
   ]
  },
  {
   "cell_type": "code",
   "execution_count": null,
   "metadata": {},
   "outputs": [],
   "source": [
    "def get_pose_keypoints_2d_as_pandas_data_frame():\n",
    "    pass"
   ]
  },
  {
   "cell_type": "code",
   "execution_count": null,
   "metadata": {
    "colab": {
     "base_uri": "https://localhost:8080/",
     "height": 74,
     "resources": {
      "http://localhost:8080/nbextensions/google.colab/files.js": {
       "data": "Ly8gQ29weXJpZ2h0IDIwMTcgR29vZ2xlIExMQwovLwovLyBMaWNlbnNlZCB1bmRlciB0aGUgQXBhY2hlIExpY2Vuc2UsIFZlcnNpb24gMi4wICh0aGUgIkxpY2Vuc2UiKTsKLy8geW91IG1heSBub3QgdXNlIHRoaXMgZmlsZSBleGNlcHQgaW4gY29tcGxpYW5jZSB3aXRoIHRoZSBMaWNlbnNlLgovLyBZb3UgbWF5IG9idGFpbiBhIGNvcHkgb2YgdGhlIExpY2Vuc2UgYXQKLy8KLy8gICAgICBodHRwOi8vd3d3LmFwYWNoZS5vcmcvbGljZW5zZXMvTElDRU5TRS0yLjAKLy8KLy8gVW5sZXNzIHJlcXVpcmVkIGJ5IGFwcGxpY2FibGUgbGF3IG9yIGFncmVlZCB0byBpbiB3cml0aW5nLCBzb2Z0d2FyZQovLyBkaXN0cmlidXRlZCB1bmRlciB0aGUgTGljZW5zZSBpcyBkaXN0cmlidXRlZCBvbiBhbiAiQVMgSVMiIEJBU0lTLAovLyBXSVRIT1VUIFdBUlJBTlRJRVMgT1IgQ09ORElUSU9OUyBPRiBBTlkgS0lORCwgZWl0aGVyIGV4cHJlc3Mgb3IgaW1wbGllZC4KLy8gU2VlIHRoZSBMaWNlbnNlIGZvciB0aGUgc3BlY2lmaWMgbGFuZ3VhZ2UgZ292ZXJuaW5nIHBlcm1pc3Npb25zIGFuZAovLyBsaW1pdGF0aW9ucyB1bmRlciB0aGUgTGljZW5zZS4KCi8qKgogKiBAZmlsZW92ZXJ2aWV3IEhlbHBlcnMgZm9yIGdvb2dsZS5jb2xhYiBQeXRob24gbW9kdWxlLgogKi8KKGZ1bmN0aW9uKHNjb3BlKSB7CmZ1bmN0aW9uIHNwYW4odGV4dCwgc3R5bGVBdHRyaWJ1dGVzID0ge30pIHsKICBjb25zdCBlbGVtZW50ID0gZG9jdW1lbnQuY3JlYXRlRWxlbWVudCgnc3BhbicpOwogIGVsZW1lbnQudGV4dENvbnRlbnQgPSB0ZXh0OwogIGZvciAoY29uc3Qga2V5IG9mIE9iamVjdC5rZXlzKHN0eWxlQXR0cmlidXRlcykpIHsKICAgIGVsZW1lbnQuc3R5bGVba2V5XSA9IHN0eWxlQXR0cmlidXRlc1trZXldOwogIH0KICByZXR1cm4gZWxlbWVudDsKfQoKLy8gTWF4IG51bWJlciBvZiBieXRlcyB3aGljaCB3aWxsIGJlIHVwbG9hZGVkIGF0IGEgdGltZS4KY29uc3QgTUFYX1BBWUxPQURfU0laRSA9IDEwMCAqIDEwMjQ7Ci8vIE1heCBhbW91bnQgb2YgdGltZSB0byBibG9jayB3YWl0aW5nIGZvciB0aGUgdXNlci4KY29uc3QgRklMRV9DSEFOR0VfVElNRU9VVF9NUyA9IDMwICogMTAwMDsKCmZ1bmN0aW9uIF91cGxvYWRGaWxlcyhpbnB1dElkLCBvdXRwdXRJZCkgewogIGNvbnN0IHN0ZXBzID0gdXBsb2FkRmlsZXNTdGVwKGlucHV0SWQsIG91dHB1dElkKTsKICBjb25zdCBvdXRwdXRFbGVtZW50ID0gZG9jdW1lbnQuZ2V0RWxlbWVudEJ5SWQob3V0cHV0SWQpOwogIC8vIENhY2hlIHN0ZXBzIG9uIHRoZSBvdXRwdXRFbGVtZW50IHRvIG1ha2UgaXQgYXZhaWxhYmxlIGZvciB0aGUgbmV4dCBjYWxsCiAgLy8gdG8gdXBsb2FkRmlsZXNDb250aW51ZSBmcm9tIFB5dGhvbi4KICBvdXRwdXRFbGVtZW50LnN0ZXBzID0gc3RlcHM7CgogIHJldHVybiBfdXBsb2FkRmlsZXNDb250aW51ZShvdXRwdXRJZCk7Cn0KCi8vIFRoaXMgaXMgcm91Z2hseSBhbiBhc3luYyBnZW5lcmF0b3IgKG5vdCBzdXBwb3J0ZWQgaW4gdGhlIGJyb3dzZXIgeWV0KSwKLy8gd2hlcmUgdGhlcmUgYXJlIG11bHRpcGxlIGFzeW5jaHJvbm91cyBzdGVwcyBhbmQgdGhlIFB5dGhvbiBzaWRlIGlzIGdvaW5nCi8vIHRvIHBvbGwgZm9yIGNvbXBsZXRpb24gb2YgZWFjaCBzdGVwLgovLyBUaGlzIHVzZXMgYSBQcm9taXNlIHRvIGJsb2NrIHRoZSBweXRob24gc2lkZSBvbiBjb21wbGV0aW9uIG9mIGVhY2ggc3RlcCwKLy8gdGhlbiBwYXNzZXMgdGhlIHJlc3VsdCBvZiB0aGUgcHJldmlvdXMgc3RlcCBhcyB0aGUgaW5wdXQgdG8gdGhlIG5leHQgc3RlcC4KZnVuY3Rpb24gX3VwbG9hZEZpbGVzQ29udGludWUob3V0cHV0SWQpIHsKICBjb25zdCBvdXRwdXRFbGVtZW50ID0gZG9jdW1lbnQuZ2V0RWxlbWVudEJ5SWQob3V0cHV0SWQpOwogIGNvbnN0IHN0ZXBzID0gb3V0cHV0RWxlbWVudC5zdGVwczsKCiAgY29uc3QgbmV4dCA9IHN0ZXBzLm5leHQob3V0cHV0RWxlbWVudC5sYXN0UHJvbWlzZVZhbHVlKTsKICByZXR1cm4gUHJvbWlzZS5yZXNvbHZlKG5leHQudmFsdWUucHJvbWlzZSkudGhlbigodmFsdWUpID0+IHsKICAgIC8vIENhY2hlIHRoZSBsYXN0IHByb21pc2UgdmFsdWUgdG8gbWFrZSBpdCBhdmFpbGFibGUgdG8gdGhlIG5leHQKICAgIC8vIHN0ZXAgb2YgdGhlIGdlbmVyYXRvci4KICAgIG91dHB1dEVsZW1lbnQubGFzdFByb21pc2VWYWx1ZSA9IHZhbHVlOwogICAgcmV0dXJuIG5leHQudmFsdWUucmVzcG9uc2U7CiAgfSk7Cn0KCi8qKgogKiBHZW5lcmF0b3IgZnVuY3Rpb24gd2hpY2ggaXMgY2FsbGVkIGJldHdlZW4gZWFjaCBhc3luYyBzdGVwIG9mIHRoZSB1cGxvYWQKICogcHJvY2Vzcy4KICogQHBhcmFtIHtzdHJpbmd9IGlucHV0SWQgRWxlbWVudCBJRCBvZiB0aGUgaW5wdXQgZmlsZSBwaWNrZXIgZWxlbWVudC4KICogQHBhcmFtIHtzdHJpbmd9IG91dHB1dElkIEVsZW1lbnQgSUQgb2YgdGhlIG91dHB1dCBkaXNwbGF5LgogKiBAcmV0dXJuIHshSXRlcmFibGU8IU9iamVjdD59IEl0ZXJhYmxlIG9mIG5leHQgc3RlcHMuCiAqLwpmdW5jdGlvbiogdXBsb2FkRmlsZXNTdGVwKGlucHV0SWQsIG91dHB1dElkKSB7CiAgY29uc3QgaW5wdXRFbGVtZW50ID0gZG9jdW1lbnQuZ2V0RWxlbWVudEJ5SWQoaW5wdXRJZCk7CiAgaW5wdXRFbGVtZW50LmRpc2FibGVkID0gZmFsc2U7CgogIGNvbnN0IG91dHB1dEVsZW1lbnQgPSBkb2N1bWVudC5nZXRFbGVtZW50QnlJZChvdXRwdXRJZCk7CiAgb3V0cHV0RWxlbWVudC5pbm5lckhUTUwgPSAnJzsKCiAgY29uc3QgcGlja2VkUHJvbWlzZSA9IG5ldyBQcm9taXNlKChyZXNvbHZlKSA9PiB7CiAgICBpbnB1dEVsZW1lbnQuYWRkRXZlbnRMaXN0ZW5lcignY2hhbmdlJywgKGUpID0+IHsKICAgICAgcmVzb2x2ZShlLnRhcmdldC5maWxlcyk7CiAgICB9KTsKICB9KTsKCiAgY29uc3QgY2FuY2VsID0gZG9jdW1lbnQuY3JlYXRlRWxlbWVudCgnYnV0dG9uJyk7CiAgaW5wdXRFbGVtZW50LnBhcmVudEVsZW1lbnQuYXBwZW5kQ2hpbGQoY2FuY2VsKTsKICBjYW5jZWwudGV4dENvbnRlbnQgPSAnQ2FuY2VsIHVwbG9hZCc7CiAgY29uc3QgY2FuY2VsUHJvbWlzZSA9IG5ldyBQcm9taXNlKChyZXNvbHZlKSA9PiB7CiAgICBjYW5jZWwub25jbGljayA9ICgpID0+IHsKICAgICAgcmVzb2x2ZShudWxsKTsKICAgIH07CiAgfSk7CgogIC8vIENhbmNlbCB1cGxvYWQgaWYgdXNlciBoYXNuJ3QgcGlja2VkIGFueXRoaW5nIGluIHRpbWVvdXQuCiAgY29uc3QgdGltZW91dFByb21pc2UgPSBuZXcgUHJvbWlzZSgocmVzb2x2ZSkgPT4gewogICAgc2V0VGltZW91dCgoKSA9PiB7CiAgICAgIHJlc29sdmUobnVsbCk7CiAgICB9LCBGSUxFX0NIQU5HRV9USU1FT1VUX01TKTsKICB9KTsKCiAgLy8gV2FpdCBmb3IgdGhlIHVzZXIgdG8gcGljayB0aGUgZmlsZXMuCiAgY29uc3QgZmlsZXMgPSB5aWVsZCB7CiAgICBwcm9taXNlOiBQcm9taXNlLnJhY2UoW3BpY2tlZFByb21pc2UsIHRpbWVvdXRQcm9taXNlLCBjYW5jZWxQcm9taXNlXSksCiAgICByZXNwb25zZTogewogICAgICBhY3Rpb246ICdzdGFydGluZycsCiAgICB9CiAgfTsKCiAgaWYgKCFmaWxlcykgewogICAgcmV0dXJuIHsKICAgICAgcmVzcG9uc2U6IHsKICAgICAgICBhY3Rpb246ICdjb21wbGV0ZScsCiAgICAgIH0KICAgIH07CiAgfQoKICBjYW5jZWwucmVtb3ZlKCk7CgogIC8vIERpc2FibGUgdGhlIGlucHV0IGVsZW1lbnQgc2luY2UgZnVydGhlciBwaWNrcyBhcmUgbm90IGFsbG93ZWQuCiAgaW5wdXRFbGVtZW50LmRpc2FibGVkID0gdHJ1ZTsKCiAgZm9yIChjb25zdCBmaWxlIG9mIGZpbGVzKSB7CiAgICBjb25zdCBsaSA9IGRvY3VtZW50LmNyZWF0ZUVsZW1lbnQoJ2xpJyk7CiAgICBsaS5hcHBlbmQoc3BhbihmaWxlLm5hbWUsIHtmb250V2VpZ2h0OiAnYm9sZCd9KSk7CiAgICBsaS5hcHBlbmQoc3BhbigKICAgICAgICBgKCR7ZmlsZS50eXBlIHx8ICduL2EnfSkgLSAke2ZpbGUuc2l6ZX0gYnl0ZXMsIGAgKwogICAgICAgIGBsYXN0IG1vZGlmaWVkOiAkewogICAgICAgICAgICBmaWxlLmxhc3RNb2RpZmllZERhdGUgPyBmaWxlLmxhc3RNb2RpZmllZERhdGUudG9Mb2NhbGVEYXRlU3RyaW5nKCkgOgogICAgICAgICAgICAgICAgICAgICAgICAgICAgICAgICAgICAnbi9hJ30gLSBgKSk7CiAgICBjb25zdCBwZXJjZW50ID0gc3BhbignMCUgZG9uZScpOwogICAgbGkuYXBwZW5kQ2hpbGQocGVyY2VudCk7CgogICAgb3V0cHV0RWxlbWVudC5hcHBlbmRDaGlsZChsaSk7CgogICAgY29uc3QgZmlsZURhdGFQcm9taXNlID0gbmV3IFByb21pc2UoKHJlc29sdmUpID0+IHsKICAgICAgY29uc3QgcmVhZGVyID0gbmV3IEZpbGVSZWFkZXIoKTsKICAgICAgcmVhZGVyLm9ubG9hZCA9IChlKSA9PiB7CiAgICAgICAgcmVzb2x2ZShlLnRhcmdldC5yZXN1bHQpOwogICAgICB9OwogICAgICByZWFkZXIucmVhZEFzQXJyYXlCdWZmZXIoZmlsZSk7CiAgICB9KTsKICAgIC8vIFdhaXQgZm9yIHRoZSBkYXRhIHRvIGJlIHJlYWR5LgogICAgbGV0IGZpbGVEYXRhID0geWllbGQgewogICAgICBwcm9taXNlOiBmaWxlRGF0YVByb21pc2UsCiAgICAgIHJlc3BvbnNlOiB7CiAgICAgICAgYWN0aW9uOiAnY29udGludWUnLAogICAgICB9CiAgICB9OwoKICAgIC8vIFVzZSBhIGNodW5rZWQgc2VuZGluZyB0byBhdm9pZCBtZXNzYWdlIHNpemUgbGltaXRzLiBTZWUgYi82MjExNTY2MC4KICAgIGxldCBwb3NpdGlvbiA9IDA7CiAgICB3aGlsZSAocG9zaXRpb24gPCBmaWxlRGF0YS5ieXRlTGVuZ3RoKSB7CiAgICAgIGNvbnN0IGxlbmd0aCA9IE1hdGgubWluKGZpbGVEYXRhLmJ5dGVMZW5ndGggLSBwb3NpdGlvbiwgTUFYX1BBWUxPQURfU0laRSk7CiAgICAgIGNvbnN0IGNodW5rID0gbmV3IFVpbnQ4QXJyYXkoZmlsZURhdGEsIHBvc2l0aW9uLCBsZW5ndGgpOwogICAgICBwb3NpdGlvbiArPSBsZW5ndGg7CgogICAgICBjb25zdCBiYXNlNjQgPSBidG9hKFN0cmluZy5mcm9tQ2hhckNvZGUuYXBwbHkobnVsbCwgY2h1bmspKTsKICAgICAgeWllbGQgewogICAgICAgIHJlc3BvbnNlOiB7CiAgICAgICAgICBhY3Rpb246ICdhcHBlbmQnLAogICAgICAgICAgZmlsZTogZmlsZS5uYW1lLAogICAgICAgICAgZGF0YTogYmFzZTY0LAogICAgICAgIH0sCiAgICAgIH07CiAgICAgIHBlcmNlbnQudGV4dENvbnRlbnQgPQogICAgICAgICAgYCR7TWF0aC5yb3VuZCgocG9zaXRpb24gLyBmaWxlRGF0YS5ieXRlTGVuZ3RoKSAqIDEwMCl9JSBkb25lYDsKICAgIH0KICB9CgogIC8vIEFsbCBkb25lLgogIHlpZWxkIHsKICAgIHJlc3BvbnNlOiB7CiAgICAgIGFjdGlvbjogJ2NvbXBsZXRlJywKICAgIH0KICB9Owp9CgpzY29wZS5nb29nbGUgPSBzY29wZS5nb29nbGUgfHwge307CnNjb3BlLmdvb2dsZS5jb2xhYiA9IHNjb3BlLmdvb2dsZS5jb2xhYiB8fCB7fTsKc2NvcGUuZ29vZ2xlLmNvbGFiLl9maWxlcyA9IHsKICBfdXBsb2FkRmlsZXMsCiAgX3VwbG9hZEZpbGVzQ29udGludWUsCn07Cn0pKHNlbGYpOwo=",
       "headers": [
        [
         "content-type",
         "application/javascript"
        ]
       ],
       "ok": true,
       "status": 200,
       "status_text": ""
      }
     }
    },
    "colab_type": "code",
    "id": "oDj2TX36YBFg",
    "outputId": "9a006726-a7ff-4312-dbba-fe6158666223"
   },
   "outputs": [
    {
     "data": {
      "text/html": [
       "\n",
       "     <input type=\"file\" id=\"files-f99f4e22-6704-4b50-928c-7628d5e5b295\" name=\"files[]\" multiple disabled />\n",
       "     <output id=\"result-f99f4e22-6704-4b50-928c-7628d5e5b295\">\n",
       "      Upload widget is only available when the cell has been executed in the\n",
       "      current browser session. Please rerun this cell to enable.\n",
       "      </output>\n",
       "      <script src=\"/nbextensions/google.colab/files.js\"></script> "
      ],
      "text/plain": [
       "<IPython.core.display.HTML object>"
      ]
     },
     "metadata": {
      "tags": []
     },
     "output_type": "display_data"
    },
    {
     "name": "stdout",
     "output_type": "stream",
     "text": [
      "Saving bank-additional-full.csv to bank-additional-full.csv\n"
     ]
    }
   ],
   "source": [
    "import pandas as pd\n",
    "\n",
    "from google.colab import files\n",
    "uploaded = files.upload()\n",
    "\n"
   ]
  },
  {
   "cell_type": "code",
   "execution_count": null,
   "metadata": {},
   "outputs": [],
   "source": []
  },
  {
   "cell_type": "code",
   "execution_count": null,
   "metadata": {
    "colab": {},
    "colab_type": "code",
    "id": "lKdLxS3mjPm5"
   },
   "outputs": [],
   "source": [
    "import numpy as np\n",
    "import io\n",
    "\n",
    "df = pd.read_csv(io.StringIO(uploaded['bank-additional-full.csv'].decode('utf-8')), sep = \";\")"
   ]
  },
  {
   "cell_type": "code",
   "execution_count": null,
   "metadata": {
    "colab": {},
    "colab_type": "code",
    "id": "671IpPlqyfgf"
   },
   "outputs": [],
   "source": []
  },
  {
   "cell_type": "code",
   "execution_count": null,
   "metadata": {
    "colab": {},
    "colab_type": "code",
    "id": "cL3vw0gNBVNT"
   },
   "outputs": [],
   "source": [
    "import matplotlib.pyplot as plt\n",
    "import seaborn as sns\n",
    "%matplotlib inline\n",
    "import warnings\n",
    "warnings.filterwarnings('ignore')"
   ]
  },
  {
   "cell_type": "markdown",
   "metadata": {
    "colab_type": "text",
    "id": "xlSnoEY9FVkt"
   },
   "source": [
    "### 2.2. Exploración y verificación de la calidad de los datos\n",
    "\n",
    "Procedemos a verficar la calidad de los datos, por variable."
   ]
  },
  {
   "cell_type": "code",
   "execution_count": null,
   "metadata": {
    "colab": {
     "base_uri": "https://localhost:8080/",
     "height": 520
    },
    "colab_type": "code",
    "id": "WFFnvz6rFZFY",
    "outputId": "f16808d2-d4d8-41d7-f37c-4465344cd306"
   },
   "outputs": [
    {
     "data": {
      "image/png": "[encoded data removed]",
      "text/plain": [
       "<Figure size 1440x576 with 1 Axes>"
      ]
     },
     "metadata": {
      "tags": []
     },
     "output_type": "display_data"
    }
   ],
   "source": [
    "#edad\n",
    "\n",
    "fig, ax = plt.subplots()\n",
    "fig.set_size_inches(20, 8)\n",
    "sns.countplot(x = 'age', data = test)\n",
    "ax.set_xlabel('Age', fontsize=15)\n",
    "ax.set_ylabel('Count', fontsize=15)\n",
    "ax.set_title('Age Count Distribution', fontsize=15)\n",
    "sns.despine()"
   ]
  },
  {
   "cell_type": "code",
   "execution_count": null,
   "metadata": {
    "colab": {
     "base_uri": "https://localhost:8080/",
     "height": 525
    },
    "colab_type": "code",
    "id": "oIhtTdqtFwwf",
    "outputId": "e9bca669-141a-45c0-d2dd-38ffc9113310"
   },
   "outputs": [
    {
     "data": {
      "image/png": "[encoded data removed]",
      "text/plain": [
       "<Figure size 1440x576 with 1 Axes>"
      ]
     },
     "metadata": {
      "tags": []
     },
     "output_type": "display_data"
    }
   ],
   "source": [
    "#Jobs\n",
    "\n",
    "fig, ax = plt.subplots()\n",
    "fig.set_size_inches(20, 8)\n",
    "sns.countplot(x = 'job', data = test)\n",
    "ax.set_xlabel('Job', fontsize=15)\n",
    "ax.set_ylabel('Count', fontsize=15)\n",
    "ax.set_title('Age Count Distribution', fontsize=15)\n",
    "ax.tick_params(labelsize=15)\n",
    "sns.despine()"
   ]
  },
  {
   "cell_type": "code",
   "execution_count": null,
   "metadata": {
    "colab": {
     "base_uri": "https://localhost:8080/",
     "height": 362
    },
    "colab_type": "code",
    "id": "6PZ_4LkEGcBr",
    "outputId": "0db4f043-5fd6-4a51-902f-6a110677f909"
   },
   "outputs": [
    {
     "data": {
      "image/png": "[encoded data removed]",
      "text/plain": [
       "<Figure size 720x360 with 1 Axes>"
      ]
     },
     "metadata": {
      "tags": []
     },
     "output_type": "display_data"
    }
   ],
   "source": [
    "#Marital\n",
    "\n",
    "fig, ax = plt.subplots()\n",
    "fig.set_size_inches(10, 5)\n",
    "sns.countplot(x = 'marital', data = test)\n",
    "ax.set_xlabel('Marital', fontsize=15)\n",
    "ax.set_ylabel('Count', fontsize=15)\n",
    "ax.set_title('Age Count Distribution', fontsize=15)\n",
    "ax.tick_params(labelsize=15)\n",
    "sns.despine()"
   ]
  },
  {
   "cell_type": "code",
   "execution_count": null,
   "metadata": {
    "colab": {
     "base_uri": "https://localhost:8080/",
     "height": 362
    },
    "colab_type": "code",
    "id": "GffHizuHsNjQ",
    "outputId": "2f2058f7-da81-488f-88c7-460224e559e8"
   },
   "outputs": [
    {
     "data": {
      "image/png": "[encoded data removed]",
      "text/plain": [
       "<Figure size 1440x360 with 1 Axes>"
      ]
     },
     "metadata": {
      "tags": []
     },
     "output_type": "display_data"
    }
   ],
   "source": [
    "#Education\n",
    "fig, ax = plt.subplots()\n",
    "fig.set_size_inches(20, 5)\n",
    "sns.countplot(x = 'education', data = test)\n",
    "ax.set_xlabel('Education', fontsize=15)\n",
    "ax.set_ylabel('Count', fontsize=15)\n",
    "ax.set_title('Education Count Distribution', fontsize=15)\n",
    "ax.tick_params(labelsize=15)\n",
    "sns.despine()"
   ]
  },
  {
   "cell_type": "code",
   "execution_count": null,
   "metadata": {
    "colab": {
     "base_uri": "https://localhost:8080/",
     "height": 204
    },
    "colab_type": "code",
    "id": "LLuyuobaauVR",
    "outputId": "1f1255e4-c3e3-4c7d-e718-637566655ae2"
   },
   "outputs": [
    {
     "data": {
      "text/html": [
       "<div>\n",
       "<style scoped>\n",
       "    .dataframe tbody tr th:only-of-type {\n",
       "        vertical-align: middle;\n",
       "    }\n",
       "\n",
       "    .dataframe tbody tr th {\n",
       "        vertical-align: top;\n",
       "    }\n",
       "\n",
       "    .dataframe thead th {\n",
       "        text-align: right;\n",
       "    }\n",
       "</style>\n",
       "<table border=\"1\" class=\"dataframe\">\n",
       "  <thead>\n",
       "    <tr style=\"text-align: right;\">\n",
       "      <th></th>\n",
       "      <th>age</th>\n",
       "      <th>job</th>\n",
       "      <th>marital</th>\n",
       "      <th>education</th>\n",
       "      <th>default</th>\n",
       "      <th>housing</th>\n",
       "      <th>loan</th>\n",
       "    </tr>\n",
       "  </thead>\n",
       "  <tbody>\n",
       "    <tr>\n",
       "      <th>0</th>\n",
       "      <td>56</td>\n",
       "      <td>housemaid</td>\n",
       "      <td>married</td>\n",
       "      <td>basic.4y</td>\n",
       "      <td>no</td>\n",
       "      <td>no</td>\n",
       "      <td>no</td>\n",
       "    </tr>\n",
       "    <tr>\n",
       "      <th>1</th>\n",
       "      <td>57</td>\n",
       "      <td>services</td>\n",
       "      <td>married</td>\n",
       "      <td>high.school</td>\n",
       "      <td>unknown</td>\n",
       "      <td>no</td>\n",
       "      <td>no</td>\n",
       "    </tr>\n",
       "    <tr>\n",
       "      <th>2</th>\n",
       "      <td>37</td>\n",
       "      <td>services</td>\n",
       "      <td>married</td>\n",
       "      <td>high.school</td>\n",
       "      <td>no</td>\n",
       "      <td>yes</td>\n",
       "      <td>no</td>\n",
       "    </tr>\n",
       "    <tr>\n",
       "      <th>3</th>\n",
       "      <td>40</td>\n",
       "      <td>admin.</td>\n",
       "      <td>married</td>\n",
       "      <td>basic.6y</td>\n",
       "      <td>no</td>\n",
       "      <td>no</td>\n",
       "      <td>no</td>\n",
       "    </tr>\n",
       "    <tr>\n",
       "      <th>4</th>\n",
       "      <td>56</td>\n",
       "      <td>services</td>\n",
       "      <td>married</td>\n",
       "      <td>high.school</td>\n",
       "      <td>no</td>\n",
       "      <td>no</td>\n",
       "      <td>yes</td>\n",
       "    </tr>\n",
       "  </tbody>\n",
       "</table>\n",
       "</div>"
      ],
      "text/plain": [
       "   age        job  marital    education  default housing loan\n",
       "0   56  housemaid  married     basic.4y       no      no   no\n",
       "1   57   services  married  high.school  unknown      no   no\n",
       "2   37   services  married  high.school       no     yes   no\n",
       "3   40     admin.  married     basic.6y       no      no   no\n",
       "4   56   services  married  high.school       no      no  yes"
      ]
     },
     "execution_count": 87,
     "metadata": {
      "tags": []
     },
     "output_type": "execute_result"
    }
   ],
   "source": [
    "bank_client = df.iloc[: , 0:7]\n",
    "c.head()"
   ]
  },
  {
   "cell_type": "code",
   "execution_count": null,
   "metadata": {
    "colab": {},
    "colab_type": "code",
    "id": "a6J2aALNIyyD"
   },
   "outputs": [],
   "source": [
    "from sklearn.preprocessing import LabelEncoder\n",
    "labelencoder_X = LabelEncoder()\n",
    "bank_client['job']      = labelencoder_X.fit_transform(bank_client['job']) \n",
    "bank_client['marital']  = labelencoder_X.fit_transform(bank_client['marital']) \n",
    "bank_client['education']= labelencoder_X.fit_transform(bank_client['education']) \n",
    "bank_client['default']  = labelencoder_X.fit_transform(bank_client['default']) \n",
    "bank_client['housing']  = labelencoder_X.fit_transform(bank_client['housing']) \n",
    "bank_client['loan']     = labelencoder_X.fit_transform(bank_client['loan'])\n"
   ]
  },
  {
   "cell_type": "code",
   "execution_count": null,
   "metadata": {
    "colab": {
     "base_uri": "https://localhost:8080/",
     "height": 204
    },
    "colab_type": "code",
    "id": "DHyLJztLUXDO",
    "outputId": "293c553f-078d-4993-edc9-28eb3648c162"
   },
   "outputs": [
    {
     "data": {
      "text/html": [
       "<div>\n",
       "<style scoped>\n",
       "    .dataframe tbody tr th:only-of-type {\n",
       "        vertical-align: middle;\n",
       "    }\n",
       "\n",
       "    .dataframe tbody tr th {\n",
       "        vertical-align: top;\n",
       "    }\n",
       "\n",
       "    .dataframe thead th {\n",
       "        text-align: right;\n",
       "    }\n",
       "</style>\n",
       "<table border=\"1\" class=\"dataframe\">\n",
       "  <thead>\n",
       "    <tr style=\"text-align: right;\">\n",
       "      <th></th>\n",
       "      <th>age</th>\n",
       "      <th>job</th>\n",
       "      <th>marital</th>\n",
       "      <th>education</th>\n",
       "      <th>default</th>\n",
       "      <th>housing</th>\n",
       "      <th>loan</th>\n",
       "    </tr>\n",
       "  </thead>\n",
       "  <tbody>\n",
       "    <tr>\n",
       "      <th>0</th>\n",
       "      <td>56</td>\n",
       "      <td>3</td>\n",
       "      <td>1</td>\n",
       "      <td>0</td>\n",
       "      <td>0</td>\n",
       "      <td>0</td>\n",
       "      <td>0</td>\n",
       "    </tr>\n",
       "    <tr>\n",
       "      <th>1</th>\n",
       "      <td>57</td>\n",
       "      <td>7</td>\n",
       "      <td>1</td>\n",
       "      <td>3</td>\n",
       "      <td>1</td>\n",
       "      <td>0</td>\n",
       "      <td>0</td>\n",
       "    </tr>\n",
       "    <tr>\n",
       "      <th>2</th>\n",
       "      <td>37</td>\n",
       "      <td>7</td>\n",
       "      <td>1</td>\n",
       "      <td>3</td>\n",
       "      <td>0</td>\n",
       "      <td>2</td>\n",
       "      <td>0</td>\n",
       "    </tr>\n",
       "    <tr>\n",
       "      <th>3</th>\n",
       "      <td>40</td>\n",
       "      <td>0</td>\n",
       "      <td>1</td>\n",
       "      <td>1</td>\n",
       "      <td>0</td>\n",
       "      <td>0</td>\n",
       "      <td>0</td>\n",
       "    </tr>\n",
       "    <tr>\n",
       "      <th>4</th>\n",
       "      <td>56</td>\n",
       "      <td>7</td>\n",
       "      <td>1</td>\n",
       "      <td>3</td>\n",
       "      <td>0</td>\n",
       "      <td>0</td>\n",
       "      <td>2</td>\n",
       "    </tr>\n",
       "  </tbody>\n",
       "</table>\n",
       "</div>"
      ],
      "text/plain": [
       "   age  job  marital  education  default  housing  loan\n",
       "0   56    3        1          0        0        0     0\n",
       "1   57    7        1          3        1        0     0\n",
       "2   37    7        1          3        0        2     0\n",
       "3   40    0        1          1        0        0     0\n",
       "4   56    7        1          3        0        0     2"
      ]
     },
     "execution_count": 90,
     "metadata": {
      "tags": []
     },
     "output_type": "execute_result"
    }
   ],
   "source": [
    "bank_client.head()"
   ]
  },
  {
   "cell_type": "code",
   "execution_count": null,
   "metadata": {
    "colab": {
     "base_uri": "https://localhost:8080/",
     "height": 204
    },
    "colab_type": "code",
    "id": "oS3PbeD2Wh4n",
    "outputId": "3b99bcf1-9c80-4ba0-b486-925785fec451"
   },
   "outputs": [
    {
     "data": {
      "text/html": [
       "<div>\n",
       "<style scoped>\n",
       "    .dataframe tbody tr th:only-of-type {\n",
       "        vertical-align: middle;\n",
       "    }\n",
       "\n",
       "    .dataframe tbody tr th {\n",
       "        vertical-align: top;\n",
       "    }\n",
       "\n",
       "    .dataframe thead th {\n",
       "        text-align: right;\n",
       "    }\n",
       "</style>\n",
       "<table border=\"1\" class=\"dataframe\">\n",
       "  <thead>\n",
       "    <tr style=\"text-align: right;\">\n",
       "      <th></th>\n",
       "      <th>contact</th>\n",
       "      <th>month</th>\n",
       "      <th>day_of_week</th>\n",
       "      <th>duration</th>\n",
       "    </tr>\n",
       "  </thead>\n",
       "  <tbody>\n",
       "    <tr>\n",
       "      <th>0</th>\n",
       "      <td>telephone</td>\n",
       "      <td>may</td>\n",
       "      <td>mon</td>\n",
       "      <td>261</td>\n",
       "    </tr>\n",
       "    <tr>\n",
       "      <th>1</th>\n",
       "      <td>telephone</td>\n",
       "      <td>may</td>\n",
       "      <td>mon</td>\n",
       "      <td>149</td>\n",
       "    </tr>\n",
       "    <tr>\n",
       "      <th>2</th>\n",
       "      <td>telephone</td>\n",
       "      <td>may</td>\n",
       "      <td>mon</td>\n",
       "      <td>226</td>\n",
       "    </tr>\n",
       "    <tr>\n",
       "      <th>3</th>\n",
       "      <td>telephone</td>\n",
       "      <td>may</td>\n",
       "      <td>mon</td>\n",
       "      <td>151</td>\n",
       "    </tr>\n",
       "    <tr>\n",
       "      <th>4</th>\n",
       "      <td>telephone</td>\n",
       "      <td>may</td>\n",
       "      <td>mon</td>\n",
       "      <td>307</td>\n",
       "    </tr>\n",
       "  </tbody>\n",
       "</table>\n",
       "</div>"
      ],
      "text/plain": [
       "     contact month day_of_week  duration\n",
       "0  telephone   may         mon       261\n",
       "1  telephone   may         mon       149\n",
       "2  telephone   may         mon       226\n",
       "3  telephone   may         mon       151\n",
       "4  telephone   may         mon       307"
      ]
     },
     "execution_count": 81,
     "metadata": {
      "tags": []
     },
     "output_type": "execute_result"
    }
   ],
   "source": [
    "# Slicing DataFrame to treat separately, make things more easy\n",
    "bank_related = df.iloc[: , 7:11]\n",
    "bank_related.head()"
   ]
  },
  {
   "cell_type": "code",
   "execution_count": null,
   "metadata": {
    "colab": {
     "base_uri": "https://localhost:8080/",
     "height": 369
    },
    "colab_type": "code",
    "id": "dGBfT8G_XMpt",
    "outputId": "c1e62cb1-df24-418b-b7cb-958be308a0f8"
   },
   "outputs": [
    {
     "data": {
      "image/png": "[encoded data removed]",
      "text/plain": [
       "<Figure size 936x360 with 2 Axes>"
      ]
     },
     "metadata": {
      "tags": []
     },
     "output_type": "display_data"
    }
   ],
   "source": [
    "fig, (ax1, ax2) = plt.subplots(nrows = 1, ncols = 2, figsize = (13, 5))\n",
    "sns.boxplot(x = 'duration', data = bank_related, orient = 'v', ax = ax1)\n",
    "ax1.set_xlabel('Calls', fontsize=10)\n",
    "ax1.set_ylabel('Duration', fontsize=10)\n",
    "ax1.set_title('Calls Distribution', fontsize=10)\n",
    "ax1.tick_params(labelsize=10)\n",
    "\n",
    "sns.distplot(bank_related['duration'], ax = ax2)\n",
    "sns.despine(ax = ax2)\n",
    "ax2.set_xlabel('Duration Calls', fontsize=10)\n",
    "ax2.set_ylabel('Occurence', fontsize=10)\n",
    "ax2.set_title('Duration x Ocucurence', fontsize=10)\n",
    "ax2.tick_params(labelsize=10)\n",
    "\n",
    "plt.subplots_adjust(wspace=0.5)\n",
    "plt.tight_layout() "
   ]
  },
  {
   "cell_type": "code",
   "execution_count": null,
   "metadata": {
    "colab": {},
    "colab_type": "code",
    "id": "lqkjbit1Xf4E"
   },
   "outputs": [],
   "source": [
    "# Label encoder order is alphabetical\n",
    "from sklearn.preprocessing import LabelEncoder\n",
    "labelencoder_X = LabelEncoder()\n",
    "bank_related['contact']     = labelencoder_X.fit_transform(bank_related['contact']) \n",
    "bank_related['month']       = labelencoder_X.fit_transform(bank_related['month']) \n",
    "bank_related['day_of_week'] = labelencoder_X.fit_transform(bank_related['day_of_week']) "
   ]
  },
  {
   "cell_type": "code",
   "execution_count": null,
   "metadata": {
    "colab": {
     "base_uri": "https://localhost:8080/",
     "height": 204
    },
    "colab_type": "code",
    "id": "gtEPm8bgX5Af",
    "outputId": "16c8d9be-18a4-45cd-ecbc-5b30315e900f"
   },
   "outputs": [
    {
     "data": {
      "text/html": [
       "<div>\n",
       "<style scoped>\n",
       "    .dataframe tbody tr th:only-of-type {\n",
       "        vertical-align: middle;\n",
       "    }\n",
       "\n",
       "    .dataframe tbody tr th {\n",
       "        vertical-align: top;\n",
       "    }\n",
       "\n",
       "    .dataframe thead th {\n",
       "        text-align: right;\n",
       "    }\n",
       "</style>\n",
       "<table border=\"1\" class=\"dataframe\">\n",
       "  <thead>\n",
       "    <tr style=\"text-align: right;\">\n",
       "      <th></th>\n",
       "      <th>contact</th>\n",
       "      <th>day</th>\n",
       "      <th>month</th>\n",
       "      <th>duration</th>\n",
       "    </tr>\n",
       "  </thead>\n",
       "  <tbody>\n",
       "    <tr>\n",
       "      <th>0</th>\n",
       "      <td>2</td>\n",
       "      <td>5</td>\n",
       "      <td>8</td>\n",
       "      <td>261</td>\n",
       "    </tr>\n",
       "    <tr>\n",
       "      <th>1</th>\n",
       "      <td>2</td>\n",
       "      <td>5</td>\n",
       "      <td>8</td>\n",
       "      <td>151</td>\n",
       "    </tr>\n",
       "    <tr>\n",
       "      <th>2</th>\n",
       "      <td>2</td>\n",
       "      <td>5</td>\n",
       "      <td>8</td>\n",
       "      <td>76</td>\n",
       "    </tr>\n",
       "    <tr>\n",
       "      <th>3</th>\n",
       "      <td>2</td>\n",
       "      <td>5</td>\n",
       "      <td>8</td>\n",
       "      <td>92</td>\n",
       "    </tr>\n",
       "    <tr>\n",
       "      <th>4</th>\n",
       "      <td>2</td>\n",
       "      <td>5</td>\n",
       "      <td>8</td>\n",
       "      <td>198</td>\n",
       "    </tr>\n",
       "  </tbody>\n",
       "</table>\n",
       "</div>"
      ],
      "text/plain": [
       "   contact  day  month  duration\n",
       "0        2    5      8       261\n",
       "1        2    5      8       151\n",
       "2        2    5      8        76\n",
       "3        2    5      8        92\n",
       "4        2    5      8       198"
      ]
     },
     "execution_count": 70,
     "metadata": {
      "tags": []
     },
     "output_type": "execute_result"
    }
   ],
   "source": [
    "bank_related.head()"
   ]
  },
  {
   "cell_type": "code",
   "execution_count": null,
   "metadata": {
    "colab": {
     "base_uri": "https://localhost:8080/",
     "height": 204
    },
    "colab_type": "code",
    "id": "V8EcA1IrYJ41",
    "outputId": "6017dab0-ef03-4547-ed02-f20219a68061"
   },
   "outputs": [
    {
     "data": {
      "text/html": [
       "<div>\n",
       "<style scoped>\n",
       "    .dataframe tbody tr th:only-of-type {\n",
       "        vertical-align: middle;\n",
       "    }\n",
       "\n",
       "    .dataframe tbody tr th {\n",
       "        vertical-align: top;\n",
       "    }\n",
       "\n",
       "    .dataframe thead th {\n",
       "        text-align: right;\n",
       "    }\n",
       "</style>\n",
       "<table border=\"1\" class=\"dataframe\">\n",
       "  <thead>\n",
       "    <tr style=\"text-align: right;\">\n",
       "      <th></th>\n",
       "      <th>emp.var.rate</th>\n",
       "      <th>cons.price.idx</th>\n",
       "      <th>cons.conf.idx</th>\n",
       "      <th>euribor3m</th>\n",
       "      <th>nr.employed</th>\n",
       "    </tr>\n",
       "  </thead>\n",
       "  <tbody>\n",
       "    <tr>\n",
       "      <th>0</th>\n",
       "      <td>1.1</td>\n",
       "      <td>93.994</td>\n",
       "      <td>-36.4</td>\n",
       "      <td>4.857</td>\n",
       "      <td>5191.0</td>\n",
       "    </tr>\n",
       "    <tr>\n",
       "      <th>1</th>\n",
       "      <td>1.1</td>\n",
       "      <td>93.994</td>\n",
       "      <td>-36.4</td>\n",
       "      <td>4.857</td>\n",
       "      <td>5191.0</td>\n",
       "    </tr>\n",
       "    <tr>\n",
       "      <th>2</th>\n",
       "      <td>1.1</td>\n",
       "      <td>93.994</td>\n",
       "      <td>-36.4</td>\n",
       "      <td>4.857</td>\n",
       "      <td>5191.0</td>\n",
       "    </tr>\n",
       "    <tr>\n",
       "      <th>3</th>\n",
       "      <td>1.1</td>\n",
       "      <td>93.994</td>\n",
       "      <td>-36.4</td>\n",
       "      <td>4.857</td>\n",
       "      <td>5191.0</td>\n",
       "    </tr>\n",
       "    <tr>\n",
       "      <th>4</th>\n",
       "      <td>1.1</td>\n",
       "      <td>93.994</td>\n",
       "      <td>-36.4</td>\n",
       "      <td>4.857</td>\n",
       "      <td>5191.0</td>\n",
       "    </tr>\n",
       "  </tbody>\n",
       "</table>\n",
       "</div>"
      ],
      "text/plain": [
       "   emp.var.rate  cons.price.idx  cons.conf.idx  euribor3m  nr.employed\n",
       "0           1.1          93.994          -36.4      4.857       5191.0\n",
       "1           1.1          93.994          -36.4      4.857       5191.0\n",
       "2           1.1          93.994          -36.4      4.857       5191.0\n",
       "3           1.1          93.994          -36.4      4.857       5191.0\n",
       "4           1.1          93.994          -36.4      4.857       5191.0"
      ]
     },
     "execution_count": 84,
     "metadata": {
      "tags": []
     },
     "output_type": "execute_result"
    }
   ],
   "source": [
    "bank_se = df.loc[: , ['emp.var.rate', 'cons.price.idx', 'cons.conf.idx', 'euribor3m', 'nr.employed']]\n",
    "bank_se.head()"
   ]
  },
  {
   "cell_type": "code",
   "execution_count": null,
   "metadata": {
    "colab": {
     "base_uri": "https://localhost:8080/",
     "height": 204
    },
    "colab_type": "code",
    "id": "-QwHe3WxZ3LF",
    "outputId": "0c6ac3e1-ee2f-4b32-ebf6-8935e9dd72e5"
   },
   "outputs": [
    {
     "data": {
      "text/html": [
       "<div>\n",
       "<style scoped>\n",
       "    .dataframe tbody tr th:only-of-type {\n",
       "        vertical-align: middle;\n",
       "    }\n",
       "\n",
       "    .dataframe tbody tr th {\n",
       "        vertical-align: top;\n",
       "    }\n",
       "\n",
       "    .dataframe thead th {\n",
       "        text-align: right;\n",
       "    }\n",
       "</style>\n",
       "<table border=\"1\" class=\"dataframe\">\n",
       "  <thead>\n",
       "    <tr style=\"text-align: right;\">\n",
       "      <th></th>\n",
       "      <th>campaign</th>\n",
       "      <th>pdays</th>\n",
       "      <th>previous</th>\n",
       "      <th>poutcome</th>\n",
       "    </tr>\n",
       "  </thead>\n",
       "  <tbody>\n",
       "    <tr>\n",
       "      <th>0</th>\n",
       "      <td>1</td>\n",
       "      <td>999</td>\n",
       "      <td>0</td>\n",
       "      <td>nonexistent</td>\n",
       "    </tr>\n",
       "    <tr>\n",
       "      <th>1</th>\n",
       "      <td>1</td>\n",
       "      <td>999</td>\n",
       "      <td>0</td>\n",
       "      <td>nonexistent</td>\n",
       "    </tr>\n",
       "    <tr>\n",
       "      <th>2</th>\n",
       "      <td>1</td>\n",
       "      <td>999</td>\n",
       "      <td>0</td>\n",
       "      <td>nonexistent</td>\n",
       "    </tr>\n",
       "    <tr>\n",
       "      <th>3</th>\n",
       "      <td>1</td>\n",
       "      <td>999</td>\n",
       "      <td>0</td>\n",
       "      <td>nonexistent</td>\n",
       "    </tr>\n",
       "    <tr>\n",
       "      <th>4</th>\n",
       "      <td>1</td>\n",
       "      <td>999</td>\n",
       "      <td>0</td>\n",
       "      <td>nonexistent</td>\n",
       "    </tr>\n",
       "  </tbody>\n",
       "</table>\n",
       "</div>"
      ],
      "text/plain": [
       "   campaign  pdays  previous     poutcome\n",
       "0         1    999         0  nonexistent\n",
       "1         1    999         0  nonexistent\n",
       "2         1    999         0  nonexistent\n",
       "3         1    999         0  nonexistent\n",
       "4         1    999         0  nonexistent"
      ]
     },
     "execution_count": 85,
     "metadata": {
      "tags": []
     },
     "output_type": "execute_result"
    }
   ],
   "source": [
    "bank_o = df.loc[: , ['campaign', 'pdays','previous', 'poutcome']]\n",
    "bank_o.head()"
   ]
  },
  {
   "cell_type": "code",
   "execution_count": null,
   "metadata": {
    "colab": {},
    "colab_type": "code",
    "id": "pfDX-GytZ_MU"
   },
   "outputs": [],
   "source": [
    "bank_o['poutcome'].replace(['nonexistent', 'failure', 'success'], [1,2,3], inplace  = True)"
   ]
  },
  {
   "cell_type": "code",
   "execution_count": null,
   "metadata": {
    "colab": {
     "base_uri": "https://localhost:8080/",
     "height": 224
    },
    "colab_type": "code",
    "id": "58epr4d6b7sB",
    "outputId": "b17b5389-b6e1-4900-ab57-511df225ac76"
   },
   "outputs": [
    {
     "data": {
      "text/html": [
       "<div>\n",
       "<style scoped>\n",
       "    .dataframe tbody tr th:only-of-type {\n",
       "        vertical-align: middle;\n",
       "    }\n",
       "\n",
       "    .dataframe tbody tr th {\n",
       "        vertical-align: top;\n",
       "    }\n",
       "\n",
       "    .dataframe thead th {\n",
       "        text-align: right;\n",
       "    }\n",
       "</style>\n",
       "<table border=\"1\" class=\"dataframe\">\n",
       "  <thead>\n",
       "    <tr style=\"text-align: right;\">\n",
       "      <th></th>\n",
       "      <th>age</th>\n",
       "      <th>job</th>\n",
       "      <th>marital</th>\n",
       "      <th>education</th>\n",
       "      <th>default</th>\n",
       "      <th>housing</th>\n",
       "      <th>loan</th>\n",
       "      <th>contact</th>\n",
       "      <th>month</th>\n",
       "      <th>day_of_week</th>\n",
       "      <th>duration</th>\n",
       "      <th>emp.var.rate</th>\n",
       "      <th>cons.price.idx</th>\n",
       "      <th>cons.conf.idx</th>\n",
       "      <th>euribor3m</th>\n",
       "      <th>nr.employed</th>\n",
       "      <th>campaign</th>\n",
       "      <th>pdays</th>\n",
       "      <th>previous</th>\n",
       "      <th>poutcome</th>\n",
       "      <th>y</th>\n",
       "    </tr>\n",
       "  </thead>\n",
       "  <tbody>\n",
       "    <tr>\n",
       "      <th>0</th>\n",
       "      <td>56</td>\n",
       "      <td>3</td>\n",
       "      <td>1</td>\n",
       "      <td>0</td>\n",
       "      <td>0</td>\n",
       "      <td>0</td>\n",
       "      <td>0</td>\n",
       "      <td>1</td>\n",
       "      <td>6</td>\n",
       "      <td>1</td>\n",
       "      <td>261</td>\n",
       "      <td>1.1</td>\n",
       "      <td>93.994</td>\n",
       "      <td>-36.4</td>\n",
       "      <td>4.857</td>\n",
       "      <td>5191.0</td>\n",
       "      <td>1</td>\n",
       "      <td>999</td>\n",
       "      <td>0</td>\n",
       "      <td>1</td>\n",
       "      <td>0</td>\n",
       "    </tr>\n",
       "    <tr>\n",
       "      <th>1</th>\n",
       "      <td>57</td>\n",
       "      <td>7</td>\n",
       "      <td>1</td>\n",
       "      <td>3</td>\n",
       "      <td>1</td>\n",
       "      <td>0</td>\n",
       "      <td>0</td>\n",
       "      <td>1</td>\n",
       "      <td>6</td>\n",
       "      <td>1</td>\n",
       "      <td>149</td>\n",
       "      <td>1.1</td>\n",
       "      <td>93.994</td>\n",
       "      <td>-36.4</td>\n",
       "      <td>4.857</td>\n",
       "      <td>5191.0</td>\n",
       "      <td>1</td>\n",
       "      <td>999</td>\n",
       "      <td>0</td>\n",
       "      <td>1</td>\n",
       "      <td>0</td>\n",
       "    </tr>\n",
       "    <tr>\n",
       "      <th>2</th>\n",
       "      <td>37</td>\n",
       "      <td>7</td>\n",
       "      <td>1</td>\n",
       "      <td>3</td>\n",
       "      <td>0</td>\n",
       "      <td>2</td>\n",
       "      <td>0</td>\n",
       "      <td>1</td>\n",
       "      <td>6</td>\n",
       "      <td>1</td>\n",
       "      <td>226</td>\n",
       "      <td>1.1</td>\n",
       "      <td>93.994</td>\n",
       "      <td>-36.4</td>\n",
       "      <td>4.857</td>\n",
       "      <td>5191.0</td>\n",
       "      <td>1</td>\n",
       "      <td>999</td>\n",
       "      <td>0</td>\n",
       "      <td>1</td>\n",
       "      <td>0</td>\n",
       "    </tr>\n",
       "    <tr>\n",
       "      <th>3</th>\n",
       "      <td>40</td>\n",
       "      <td>0</td>\n",
       "      <td>1</td>\n",
       "      <td>1</td>\n",
       "      <td>0</td>\n",
       "      <td>0</td>\n",
       "      <td>0</td>\n",
       "      <td>1</td>\n",
       "      <td>6</td>\n",
       "      <td>1</td>\n",
       "      <td>151</td>\n",
       "      <td>1.1</td>\n",
       "      <td>93.994</td>\n",
       "      <td>-36.4</td>\n",
       "      <td>4.857</td>\n",
       "      <td>5191.0</td>\n",
       "      <td>1</td>\n",
       "      <td>999</td>\n",
       "      <td>0</td>\n",
       "      <td>1</td>\n",
       "      <td>0</td>\n",
       "    </tr>\n",
       "    <tr>\n",
       "      <th>4</th>\n",
       "      <td>56</td>\n",
       "      <td>7</td>\n",
       "      <td>1</td>\n",
       "      <td>3</td>\n",
       "      <td>0</td>\n",
       "      <td>0</td>\n",
       "      <td>2</td>\n",
       "      <td>1</td>\n",
       "      <td>6</td>\n",
       "      <td>1</td>\n",
       "      <td>307</td>\n",
       "      <td>1.1</td>\n",
       "      <td>93.994</td>\n",
       "      <td>-36.4</td>\n",
       "      <td>4.857</td>\n",
       "      <td>5191.0</td>\n",
       "      <td>1</td>\n",
       "      <td>999</td>\n",
       "      <td>0</td>\n",
       "      <td>1</td>\n",
       "      <td>0</td>\n",
       "    </tr>\n",
       "  </tbody>\n",
       "</table>\n",
       "</div>"
      ],
      "text/plain": [
       "   age  job  marital  education  ...  pdays  previous  poutcome  y\n",
       "0   56    3        1          0  ...    999         0         1  0\n",
       "1   57    7        1          3  ...    999         0         1  0\n",
       "2   37    7        1          3  ...    999         0         1  0\n",
       "3   40    0        1          1  ...    999         0         1  0\n",
       "4   56    7        1          3  ...    999         0         1  0\n",
       "\n",
       "[5 rows x 21 columns]"
      ]
     },
     "execution_count": 122,
     "metadata": {
      "tags": []
     },
     "output_type": "execute_result"
    }
   ],
   "source": [
    "#Variable de salida\n",
    "bank_re = df.loc[: , ['y']]\n",
    "bank_re['y'].replace(['no', 'yes'], [0,1], inplace  = True)\n",
    "\n",
    "\n",
    "#base final\n",
    "bank_final= pd.concat([bank_client, bank_related, bank_se, bank_o, bank_re], axis = 1)\n",
    "\n",
    "bank_final.head()"
   ]
  },
  {
   "cell_type": "markdown",
   "metadata": {
    "colab_type": "text",
    "id": "jnMkKKJbd33l"
   },
   "source": [
    "## 3. Preparación de los datos - Data preparation\n",
    "\n",
    "Procedemos a normalizar los datos.\n"
   ]
  },
  {
   "cell_type": "code",
   "execution_count": null,
   "metadata": {
    "colab": {},
    "colab_type": "code",
    "id": "QjJbLBFEdpGN"
   },
   "outputs": [],
   "source": [
    "from sklearn import preprocessing\n",
    "\n",
    "x = bank_final.values #returns a numpy array\n",
    "min_max_scaler = preprocessing.MinMaxScaler()\n",
    "x_scaled = min_max_scaler.fit_transform(x)\n",
    "df_modelo = pd.DataFrame(x_scaled)"
   ]
  },
  {
   "cell_type": "code",
   "execution_count": null,
   "metadata": {
    "colab": {
     "base_uri": "https://localhost:8080/",
     "height": 224
    },
    "colab_type": "code",
    "id": "uZiIl0PUd0wd",
    "outputId": "5f5189e3-1985-4f23-fc49-14f9c3e63b28"
   },
   "outputs": [
    {
     "data": {
      "text/html": [
       "<div>\n",
       "<style scoped>\n",
       "    .dataframe tbody tr th:only-of-type {\n",
       "        vertical-align: middle;\n",
       "    }\n",
       "\n",
       "    .dataframe tbody tr th {\n",
       "        vertical-align: top;\n",
       "    }\n",
       "\n",
       "    .dataframe thead th {\n",
       "        text-align: right;\n",
       "    }\n",
       "</style>\n",
       "<table border=\"1\" class=\"dataframe\">\n",
       "  <thead>\n",
       "    <tr style=\"text-align: right;\">\n",
       "      <th></th>\n",
       "      <th>age</th>\n",
       "      <th>job</th>\n",
       "      <th>marital</th>\n",
       "      <th>education</th>\n",
       "      <th>default</th>\n",
       "      <th>housing</th>\n",
       "      <th>loan</th>\n",
       "      <th>contact</th>\n",
       "      <th>month</th>\n",
       "      <th>day_of_week</th>\n",
       "      <th>duration</th>\n",
       "      <th>emp.var.rate</th>\n",
       "      <th>cons.price.idx</th>\n",
       "      <th>cons.conf.idx</th>\n",
       "      <th>euribor3m</th>\n",
       "      <th>nr.employed</th>\n",
       "      <th>campaign</th>\n",
       "      <th>pdays</th>\n",
       "      <th>previous</th>\n",
       "      <th>poutcome</th>\n",
       "      <th>y</th>\n",
       "    </tr>\n",
       "  </thead>\n",
       "  <tbody>\n",
       "    <tr>\n",
       "      <th>0</th>\n",
       "      <td>0.481481</td>\n",
       "      <td>0.272727</td>\n",
       "      <td>0.333333</td>\n",
       "      <td>0.000000</td>\n",
       "      <td>0.0</td>\n",
       "      <td>0.0</td>\n",
       "      <td>0.0</td>\n",
       "      <td>1.0</td>\n",
       "      <td>0.666667</td>\n",
       "      <td>0.25</td>\n",
       "      <td>0.053070</td>\n",
       "      <td>0.9375</td>\n",
       "      <td>0.698753</td>\n",
       "      <td>0.60251</td>\n",
       "      <td>0.957379</td>\n",
       "      <td>0.859735</td>\n",
       "      <td>0.0</td>\n",
       "      <td>1.0</td>\n",
       "      <td>0.0</td>\n",
       "      <td>0.0</td>\n",
       "      <td>0.0</td>\n",
       "    </tr>\n",
       "    <tr>\n",
       "      <th>1</th>\n",
       "      <td>0.493827</td>\n",
       "      <td>0.636364</td>\n",
       "      <td>0.333333</td>\n",
       "      <td>0.428571</td>\n",
       "      <td>0.5</td>\n",
       "      <td>0.0</td>\n",
       "      <td>0.0</td>\n",
       "      <td>1.0</td>\n",
       "      <td>0.666667</td>\n",
       "      <td>0.25</td>\n",
       "      <td>0.030297</td>\n",
       "      <td>0.9375</td>\n",
       "      <td>0.698753</td>\n",
       "      <td>0.60251</td>\n",
       "      <td>0.957379</td>\n",
       "      <td>0.859735</td>\n",
       "      <td>0.0</td>\n",
       "      <td>1.0</td>\n",
       "      <td>0.0</td>\n",
       "      <td>0.0</td>\n",
       "      <td>0.0</td>\n",
       "    </tr>\n",
       "    <tr>\n",
       "      <th>2</th>\n",
       "      <td>0.246914</td>\n",
       "      <td>0.636364</td>\n",
       "      <td>0.333333</td>\n",
       "      <td>0.428571</td>\n",
       "      <td>0.0</td>\n",
       "      <td>1.0</td>\n",
       "      <td>0.0</td>\n",
       "      <td>1.0</td>\n",
       "      <td>0.666667</td>\n",
       "      <td>0.25</td>\n",
       "      <td>0.045954</td>\n",
       "      <td>0.9375</td>\n",
       "      <td>0.698753</td>\n",
       "      <td>0.60251</td>\n",
       "      <td>0.957379</td>\n",
       "      <td>0.859735</td>\n",
       "      <td>0.0</td>\n",
       "      <td>1.0</td>\n",
       "      <td>0.0</td>\n",
       "      <td>0.0</td>\n",
       "      <td>0.0</td>\n",
       "    </tr>\n",
       "    <tr>\n",
       "      <th>3</th>\n",
       "      <td>0.283951</td>\n",
       "      <td>0.000000</td>\n",
       "      <td>0.333333</td>\n",
       "      <td>0.142857</td>\n",
       "      <td>0.0</td>\n",
       "      <td>0.0</td>\n",
       "      <td>0.0</td>\n",
       "      <td>1.0</td>\n",
       "      <td>0.666667</td>\n",
       "      <td>0.25</td>\n",
       "      <td>0.030704</td>\n",
       "      <td>0.9375</td>\n",
       "      <td>0.698753</td>\n",
       "      <td>0.60251</td>\n",
       "      <td>0.957379</td>\n",
       "      <td>0.859735</td>\n",
       "      <td>0.0</td>\n",
       "      <td>1.0</td>\n",
       "      <td>0.0</td>\n",
       "      <td>0.0</td>\n",
       "      <td>0.0</td>\n",
       "    </tr>\n",
       "    <tr>\n",
       "      <th>4</th>\n",
       "      <td>0.481481</td>\n",
       "      <td>0.636364</td>\n",
       "      <td>0.333333</td>\n",
       "      <td>0.428571</td>\n",
       "      <td>0.0</td>\n",
       "      <td>0.0</td>\n",
       "      <td>1.0</td>\n",
       "      <td>1.0</td>\n",
       "      <td>0.666667</td>\n",
       "      <td>0.25</td>\n",
       "      <td>0.062424</td>\n",
       "      <td>0.9375</td>\n",
       "      <td>0.698753</td>\n",
       "      <td>0.60251</td>\n",
       "      <td>0.957379</td>\n",
       "      <td>0.859735</td>\n",
       "      <td>0.0</td>\n",
       "      <td>1.0</td>\n",
       "      <td>0.0</td>\n",
       "      <td>0.0</td>\n",
       "      <td>0.0</td>\n",
       "    </tr>\n",
       "  </tbody>\n",
       "</table>\n",
       "</div>"
      ],
      "text/plain": [
       "        age       job   marital  education  ...  pdays  previous  poutcome    y\n",
       "0  0.481481  0.272727  0.333333   0.000000  ...    1.0       0.0       0.0  0.0\n",
       "1  0.493827  0.636364  0.333333   0.428571  ...    1.0       0.0       0.0  0.0\n",
       "2  0.246914  0.636364  0.333333   0.428571  ...    1.0       0.0       0.0  0.0\n",
       "3  0.283951  0.000000  0.333333   0.142857  ...    1.0       0.0       0.0  0.0\n",
       "4  0.481481  0.636364  0.333333   0.428571  ...    1.0       0.0       0.0  0.0\n",
       "\n",
       "[5 rows x 21 columns]"
      ]
     },
     "execution_count": 129,
     "metadata": {
      "tags": []
     },
     "output_type": "execute_result"
    }
   ],
   "source": [
    "df_modelo.columns=bank_final.columns.values\n",
    "df_modelo.head()"
   ]
  },
  {
   "cell_type": "markdown",
   "metadata": {},
   "source": [
    "## 4. Modelamiento - Modeling\n",
    "\n",
    "### 4.1 Selección de técnicas de modelamiento\n",
    "\n",
    "Se desarrollan don modelos, uno con el modelo ingenuo y otro modelo Deep Learning de cuatro capas (luego de varias validaciones), con optimizador Adam."
   ]
  },
  {
   "cell_type": "markdown",
   "metadata": {},
   "source": [
    "### 4.2 Configuración de los parámetros del modelo\n",
    "\n",
    "Procedemos a preparar el set de datos training y el set de datos test."
   ]
  },
  {
   "cell_type": "code",
   "execution_count": null,
   "metadata": {
    "colab": {},
    "colab_type": "code",
    "id": "8hcA_l0LiRr1"
   },
   "outputs": [],
   "source": [
    "train, validate, test = np.split(df_modelo.sample(frac=1), [int(.6*len(df_modelo)), int(.8*len(df_modelo))])"
   ]
  },
  {
   "cell_type": "code",
   "execution_count": null,
   "metadata": {
    "colab": {
     "base_uri": "https://localhost:8080/",
     "height": 85
    },
    "colab_type": "code",
    "id": "GtfL7Jczid0r",
    "outputId": "388ae038-26e6-40ab-a37e-bcafb8f73ba9"
   },
   "outputs": [
    {
     "name": "stdout",
     "output_type": "stream",
     "text": [
      "41188\n",
      "24712\n",
      "8238\n",
      "8238\n"
     ]
    }
   ],
   "source": [
    "#tamaño de los DF\n",
    "\n",
    "print(df.shape[0])\n",
    "print(train.shape[0])\n",
    "print(test.shape[0])\n",
    "print(validate.shape[0])"
   ]
  },
  {
   "cell_type": "markdown",
   "metadata": {
    "colab_type": "text",
    "id": "GnzdGnZNkmYu"
   },
   "source": [
    "**MODELO INGENUO**\n",
    "\n",
    "Procedemos a ejecutar el modelo ingenuo."
   ]
  },
  {
   "cell_type": "code",
   "execution_count": null,
   "metadata": {
    "colab": {},
    "colab_type": "code",
    "id": "onlF3cELklzO"
   },
   "outputs": [],
   "source": [
    "from sklearn.naive_bayes import GaussianNB\n",
    "\n",
    "\n",
    "X_train = train.iloc[: , 1:20]\n",
    "y_train = train.loc[: , ['y']]\n",
    "X_test = test.iloc[: , 1:20]\n",
    "y_test = test.loc[: , ['y']]\n",
    "\n",
    "y_train.astype('category')\n",
    "\n",
    "y_test.astype('str')\n",
    "\n",
    "#X_train.head()\n",
    "#y_train.head()\n",
    "\n",
    "\n",
    "gaussiannb= GaussianNB()\n",
    "gaussiannb.fit(X_train, y_train)\n",
    "gaussiannbpred = gaussiannb.predict(X_test)\n",
    "probs = gaussiannb.predict(X_test)\n",
    "\n",
    "#print(gaussiannbpred)\n",
    "#print(y_test)\n",
    "\n",
    "\n",
    "#print(round(accuracy_score(y_test, gaussiannbpred),2)*100)\n",
    "#GAUSIAN = (cross_val_score(gaussiannb, X_train, y_train, cv=k_fold, n_jobs=1, scoring = 'accuracy').mean())"
   ]
  },
  {
   "cell_type": "code",
   "execution_count": null,
   "metadata": {
    "colab": {
     "base_uri": "https://localhost:8080/",
     "height": 68
    },
    "colab_type": "code",
    "id": "nCdQ1AgUs3c1",
    "outputId": "f9410e84-ef16-41e9-dc5c-06b74e5a2c17"
   },
   "outputs": [
    {
     "name": "stdout",
     "output_type": "stream",
     "text": [
      "[[6467  818]\n",
      " [ 422  531]]\n",
      "85.0\n"
     ]
    }
   ],
   "source": [
    "from sklearn.metrics import confusion_matrix\n",
    "from sklearn.metrics import accuracy_score\n",
    "from sklearn.model_selection import cross_val_score\n",
    "\n",
    "print(confusion_matrix(y_test, gaussiannbpred ))\n",
    "print(round(accuracy_score(y_test, gaussiannbpred),2)*100)"
   ]
  },
  {
   "cell_type": "markdown",
   "metadata": {
    "colab_type": "text",
    "id": "Gn4sJ8MCvK0c"
   },
   "source": [
    "**MODELO DEEP LEARNING**\n",
    "\n",
    "Procedemos a ejecutar el modelo Deep Learning."
   ]
  },
  {
   "cell_type": "code",
   "execution_count": null,
   "metadata": {
    "colab": {},
    "colab_type": "code",
    "id": "Psg-WVfcvH75"
   },
   "outputs": [],
   "source": [
    "# Import necessary modules\n",
    "from sklearn.model_selection import train_test_split\n",
    "from sklearn.metrics import mean_squared_error\n",
    "from math import sqrt\n",
    "\n",
    "# Keras specific\n",
    "import keras\n",
    "from keras.models import Sequential\n",
    "from keras.layers import Dense\n",
    "from keras.utils import to_categorical "
   ]
  },
  {
   "cell_type": "code",
   "execution_count": null,
   "metadata": {
    "colab": {},
    "colab_type": "code",
    "id": "3gn57s72vImz"
   },
   "outputs": [],
   "source": [
    "target_column = ['y'] \n",
    "predictors = list(set(list(train.columns))-set(target_column))\n",
    "#train[predictors] = train[predictors]/train[predictors].max()\n",
    "#train.describe()\n",
    "\n",
    "y_train = to_categorical(y_train)\n",
    "y_test = to_categorical(y_test)"
   ]
  },
  {
   "cell_type": "code",
   "execution_count": null,
   "metadata": {
    "colab": {},
    "colab_type": "code",
    "id": "fqg7REhqyUsv"
   },
   "outputs": [],
   "source": [
    "model = Sequential()\n",
    "model.add(Dense(500, activation='relu', input_dim=19))\n",
    "model.add(Dense(100, activation='relu'))\n",
    "model.add(Dense(50, activation='relu'))\n",
    "model.add(Dense(2, activation='softmax'))\n",
    "\n",
    "# Compile the model\n",
    "model.compile(optimizer='adam', \n",
    "              loss='categorical_crossentropy', \n",
    "              metrics=['accuracy'])"
   ]
  },
  {
   "cell_type": "code",
   "execution_count": null,
   "metadata": {
    "colab": {
     "base_uri": "https://localhost:8080/",
     "height": 1000
    },
    "colab_type": "code",
    "id": "4JQHAmPSypMM",
    "outputId": "bbbc5c37-fe7a-45ac-d9f6-cf1835689e40"
   },
   "outputs": [
    {
     "name": "stdout",
     "output_type": "stream",
     "text": [
      "WARNING:tensorflow:From /usr/local/lib/python3.6/dist-packages/tensorflow_core/python/ops/math_grad.py:1424: where (from tensorflow.python.ops.array_ops) is deprecated and will be removed in a future version.\n",
      "Instructions for updating:\n",
      "Use tf.where in 2.0, which has the same broadcast rule as np.where\n",
      "WARNING:tensorflow:From /usr/local/lib/python3.6/dist-packages/keras/backend/tensorflow_backend.py:1033: The name tf.assign_add is deprecated. Please use tf.compat.v1.assign_add instead.\n",
      "\n",
      "WARNING:tensorflow:From /usr/local/lib/python3.6/dist-packages/keras/backend/tensorflow_backend.py:1020: The name tf.assign is deprecated. Please use tf.compat.v1.assign instead.\n",
      "\n",
      "WARNING:tensorflow:From /usr/local/lib/python3.6/dist-packages/keras/backend/tensorflow_backend.py:3005: The name tf.Session is deprecated. Please use tf.compat.v1.Session instead.\n",
      "\n",
      "Epoch 1/20\n",
      "WARNING:tensorflow:From /usr/local/lib/python3.6/dist-packages/keras/backend/tensorflow_backend.py:190: The name tf.get_default_session is deprecated. Please use tf.compat.v1.get_default_session instead.\n",
      "\n",
      "WARNING:tensorflow:From /usr/local/lib/python3.6/dist-packages/keras/backend/tensorflow_backend.py:197: The name tf.ConfigProto is deprecated. Please use tf.compat.v1.ConfigProto instead.\n",
      "\n",
      "WARNING:tensorflow:From /usr/local/lib/python3.6/dist-packages/keras/backend/tensorflow_backend.py:207: The name tf.global_variables is deprecated. Please use tf.compat.v1.global_variables instead.\n",
      "\n",
      "WARNING:tensorflow:From /usr/local/lib/python3.6/dist-packages/keras/backend/tensorflow_backend.py:216: The name tf.is_variable_initialized is deprecated. Please use tf.compat.v1.is_variable_initialized instead.\n",
      "\n",
      "WARNING:tensorflow:From /usr/local/lib/python3.6/dist-packages/keras/backend/tensorflow_backend.py:223: The name tf.variables_initializer is deprecated. Please use tf.compat.v1.variables_initializer instead.\n",
      "\n",
      "24712/24712 [==============================] - 3s 108us/step - loss: 0.2389 - acc: 0.9025\n",
      "Epoch 2/20\n",
      "24712/24712 [==============================] - 2s 72us/step - loss: 0.2037 - acc: 0.9105\n",
      "Epoch 3/20\n",
      "24712/24712 [==============================] - 2s 74us/step - loss: 0.1986 - acc: 0.9124\n",
      "Epoch 4/20\n",
      "24712/24712 [==============================] - 2s 73us/step - loss: 0.1952 - acc: 0.9117\n",
      "Epoch 5/20\n",
      "24712/24712 [==============================] - 2s 74us/step - loss: 0.1929 - acc: 0.9131\n",
      "Epoch 6/20\n",
      "24712/24712 [==============================] - 2s 73us/step - loss: 0.1912 - acc: 0.9124\n",
      "Epoch 7/20\n",
      "24712/24712 [==============================] - 2s 76us/step - loss: 0.1887 - acc: 0.9124\n",
      "Epoch 8/20\n",
      "24712/24712 [==============================] - 2s 76us/step - loss: 0.1866 - acc: 0.9146\n",
      "Epoch 9/20\n",
      "24712/24712 [==============================] - 2s 72us/step - loss: 0.1850 - acc: 0.9152\n",
      "Epoch 10/20\n",
      "24712/24712 [==============================] - 2s 74us/step - loss: 0.1843 - acc: 0.9145\n",
      "Epoch 11/20\n",
      "24712/24712 [==============================] - 2s 74us/step - loss: 0.1823 - acc: 0.9177\n",
      "Epoch 12/20\n",
      "24712/24712 [==============================] - 2s 70us/step - loss: 0.1789 - acc: 0.9163\n",
      "Epoch 13/20\n",
      "24712/24712 [==============================] - 2s 73us/step - loss: 0.1788 - acc: 0.9179\n",
      "Epoch 14/20\n",
      "24712/24712 [==============================] - 2s 74us/step - loss: 0.1767 - acc: 0.9185\n",
      "Epoch 15/20\n",
      "24712/24712 [==============================] - 2s 74us/step - loss: 0.1747 - acc: 0.9202\n",
      "Epoch 16/20\n",
      "24712/24712 [==============================] - 2s 76us/step - loss: 0.1735 - acc: 0.9200\n",
      "Epoch 17/20\n",
      "24712/24712 [==============================] - 2s 73us/step - loss: 0.1724 - acc: 0.9204\n",
      "Epoch 18/20\n",
      "24712/24712 [==============================] - 2s 76us/step - loss: 0.1715 - acc: 0.9214\n",
      "Epoch 19/20\n",
      "24712/24712 [==============================] - 2s 77us/step - loss: 0.1700 - acc: 0.9220\n",
      "Epoch 20/20\n",
      "24712/24712 [==============================] - 2s 75us/step - loss: 0.1666 - acc: 0.9222\n"
     ]
    },
    {
     "data": {
      "text/plain": [
       "<keras.callbacks.History at 0x7f8b49245898>"
      ]
     },
     "execution_count": 172,
     "metadata": {
      "tags": []
     },
     "output_type": "execute_result"
    }
   ],
   "source": [
    "# build the model\n",
    "model.fit(X_train, y_train, epochs=20)"
   ]
  },
  {
   "cell_type": "markdown",
   "metadata": {},
   "source": [
    "## 5. Evaluación - Evaluation\n",
    "\n",
    "### 5.1 Evaluación de resultados"
   ]
  },
  {
   "cell_type": "code",
   "execution_count": null,
   "metadata": {
    "colab": {
     "base_uri": "https://localhost:8080/",
     "height": 85
    },
    "colab_type": "code",
    "id": "C82yYdeczAiC",
    "outputId": "fdb123db-1f45-464d-d939-594eb6f65359"
   },
   "outputs": [
    {
     "name": "stdout",
     "output_type": "stream",
     "text": [
      "Accuracy on training data: 0.9280106830689544% \n",
      " Error on training data: 0.0719893169310456\n",
      "Accuracy on test data: 0.9118718135614481% \n",
      " Error on test data: 0.08812818643855191\n"
     ]
    }
   ],
   "source": [
    "pred_train= model.predict(X_train)\n",
    "scores = model.evaluate(X_train, y_train, verbose=0)\n",
    "print('Accuracy on training data: {}% \\n Error on training data: {}'.format(scores[1], 1 - scores[1]))   \n",
    " \n",
    "pred_test= model.predict(X_test)\n",
    "scores2 = model.evaluate(X_test, y_test, verbose=0)\n",
    "print('Accuracy on test data: {}% \\n Error on test data: {}'.format(scores2[1], 1 - scores2[1]))    "
   ]
  },
  {
   "cell_type": "markdown",
   "metadata": {},
   "source": [
    "Se obtuvo un resultado positivo de 91% en test asociado a la prediccón de acceso a depósito a término, con un error de 0.08."
   ]
  },
  {
   "cell_type": "markdown",
   "metadata": {},
   "source": [
    "## Bibliografía\n",
    "\n",
    "[1] Organización Mundial de la Salud, “Factores de riesgo,” 2020. [Online]. Available: https://www.who.int/topics/risk_factors/es/. [Accessed:08-Mar-2020].\n",
    "\n",
    "[2] H. E. Landberg, H. Westberg, and H. Tinnerberg, “Evaluation of risk assessment approaches of occupational chemical exposures based on models in comparison with measurements,” Safety Science, vol. 109, pp. 412–420, 2018.\n",
    "\n",
    "[3] Corrao, et al, “Biological risk and occupational health,” Industrial Health, vol. 50, no. 4, pp. 326–337, 2012.\n",
    "\n",
    "[4] Marshall, et al, “Work-related unintentional injuries associated with hurricane sandy in new jersey,” Industrial Health, vol. 10, no. 3, pp.394–404, 2016.\n",
    "\n",
    "[5] Nataletti, et al, “Occupational exposure to mechanical vibration: The italian vibration database for risk assessment,” International Journal of Occupational Safety and Ergonomics, vol. 14, no. 4, pp. 379–386, 2008.\n",
    "\n",
    "[6] Mirza, et al, “Occupational noise-induced hearing loss,” Journal of Occupational and Environmental Medicine, vol. 60, no. 9, p. e501, 2018.\n",
    "\n",
    "[7] Raul Calderon, et al, “Happiness, perceived stress, psychological well-being, and health behaviors of thai university students: Preliminary\n",
    "results from a multinational study on well-being,” Journal of American College Health, vol. 0, no. 0, pp. 1–9, 2019.\n",
    "\n",
    "[8] V. Forastieri, “Psychosocial risks and work-related stress,” Medicina y Seguridad del Trabajo, vol. 59, no. 232, 2013.\n",
    "\n",
    "[9] Pedditzi, Maria and Nonnis, Marcello, “Psycho-social sources of stress and burnout in schools: Research on a sample of italian teachers,” Med Lav, vol. 105, pp. 48–62, Feb. 2014.\n",
    "\n",
    "[10] V. Putz-Anderson, B. Bernard, “Musculoskeletal disorders and workplace factors : A critical review of epidemiologic evidence for work-related musculoskeletal disorders of the neck upper extremity and low back,” National Institute for Occupational Safety and Health, vol. 97, no. 141, 1997.\n",
    "\n",
    "[11] D. Morales, “Trabajo por turnos y presencia de obesidad en los trabajadores: Una revisión sistemática exploratoria,” Universidad Nacional de Colombia, 2014.\n",
    "\n",
    "[12] K. Azuma, et al, “Prevalence and risk factors associated with nonspecific building‐related symptoms in office employees in japan: Relationships between work environment,” Indoor Air, vol. 25, no. 5, pp. 499–511, 2015.\n",
    "\n",
    "[13] L. Wiegner, et al, “Prevalence of perceived stress and associations to symptoms of exhaustion depression and anxiety in a working age population seeking primary care - an observational study,” BMC Family Practice, vol. 16, no. 1, p. 38, 2015.\n",
    "\n",
    "[14] M. Luca et al, “Prevalence of depression and its relationship with work characteristics in a sample of public workers,” Neuropsychiatric\n",
    "Disease and Treatment, vol. 10, pp. 519–525, 2014.\n",
    "\n",
    "[15] Ministerio de salud, “Indicadores de riesgos laborales,” 2018. [Online]. Available: Https://www.minsalud.gov.co. [Accessed: 08-Mar-2020].\n",
    "\n",
    "[16] Ministerio de salud, “Observatorio nacional de salud mental,” 2019. [Online]. Available: Http://Onsaludmental.Minsalud.Gov.Co. [Accessed: 08-Mar-2020].\n",
    "\n",
    "[17] V. H. Charria Ortiz, K. V. Sarsosa Prowesk, y F. Arenas Ortiz, “Factores de riesgo psicosocial laboral: Métodos e instrumentos de evaluación,” Revista De La Facultad Nacional De Salud Pública, vol. 29, no. 4, 2011.\n",
    "\n",
    "[18] Alotaibi Abdullah, et al, “The relationship between sleep quality, stress, and academic performance among medical students,” Journal of family & community medicine, vol. 27, pp. 23–28, Jan. 2020.\n",
    "\n",
    "[19] Hederich-Martínez Christian, et al, “Validación del cuestionario maslach burnout inventory-student survey (mbi-ss) en contexto académico colombiano,” CES Psicología, 2016.\n",
    "\n",
    "[20] M. Caicoya, “Dilemas en la evaluación de riesgos psicosociales,” Archivos de Prevención de Riesgos Laborales, vol. 7, no. 3, pp. 109–118, 2004.\n",
    "\n",
    "[21] F. G. Benavides, J. Benach, C. Muntaner, “Psychosocial risk factors at the workplace: Is there enough evidence to establish reference values? Job control and its effect on public health,” Journal of Epidemiology & Community Health, vol. 56, no. 4, pp. 244–249, 2002.\n",
    "\n",
    "[22] S. Choi, et al, “Risk factor, job stress and quality of life in workers with lower extremity pain who use video display terminals,” Annals of Rehabilitation Medicine, vol. 42, no. 1, pp. 101–112, 2018.\n",
    "\n",
    "[23] K. Golonka et.al, “Occupational burnout and its overlapping effect with depression and anxiety,” International Journal of Occupational Medicine and Environmental Health, vol. 32, no. 2, pp. 229–244, 2019.\n",
    "\n",
    "[24] Yong-Ren Huang and Xu-Feng Ouyang, “Sitting posture detection and recognition using force sensor,” 2012 5th International Conference on BioMedical Engineering and Informatics. pp. 1117–1121, 2012.\n",
    "\n",
    "[25] H. Jebelli, S. Hwang, S. Lee, “EEG-based workers’ stress recognition at construction sites,” 2012 5th International Conference on BioMedical Engineering and Informatics, vol. 93, pp. 315–324, 2018.\n",
    "\n",
    "[26] Z. Zhu et al, “Naturalistic recognition of activities and mood using wearable electronics,” T-Affc, vol. 7, no. 3, pp. 272–285, 2016.\n",
    "\n",
    "[27] R. Gravina and Q. Li, “Emotion-relevant activity recognition based on smart cushion using multi-sensor fusion,” Information Fusion, vol.48, pp. 1–10, 2019.\n",
    "\n",
    "[28] C. R. Reid et al, “Wearable technologies: How will we overcome barriers to enhance worker performance health and safety?” Proceedings of the Human Factors and Ergonomics Society Annual Meeting, vol. 61, no. 1, pp. 1026–1030, 2017.\n",
    "\n",
    "[29] M. C. Schall, R. F. Sesek, L. A. Cavuoto, “Barriers to the adoption of wearable sensors in the workplace: A survey of occupational safety and health professionals,” Human Factors: The Journal of Human Factors and Ergonomics Society, vol. 60, no. 3, pp. 351–362, 2018. \n",
    "\n",
    "[30] M. Magdin, M. Turcani, L. & Hudec, “Evaluating the emotional state of a user using a webcam,” International Journal of Interactive Multimedia and Artificial Intelligence, vol. 4, no. 1, pp. 61–68, 2016. \n",
    "\n",
    "[31] M. Soleymani, et al, “A survey of multimodal sentiment analysis,” Image and Vision Computing, vol. 65, pp. 3–14, 2017. \n",
    "\n",
    "[32] J. M. Harley, et al, “A multi-componential analysis of emotions during complex learning with an intelligent multi-agent system,” Computers in Human Behavior, vol. 48, pp. 615–625, 2015. \n",
    "\n",
    "[33] Yang Le et al, “Multimodal measurement of depression using deep learning models,” AVEC ’17: Proceedings of the 7th Annual Workshop on Audio/Visual Emotion Challenge. pp. 53–59, 2017. \n",
    "\n",
    "[34] S. Poria et al, “Ensemble application of convolutional neural networks and multiple kernel learning for multimodal sentiment analysis,” Neurocomputing, vol. 261, pp. 217–230, 2017. \n",
    "\n",
    "[35] Campos, Victor and Jou, Brendan and Giró-i-Nieto, Xavier, “From pixels to sentiment: Fine-tuning cnns for visual sentiment prediction,” Image and Vision Computing, 2016. \n",
    "\n",
    "[36] N. Jain, et al, “Hybrid deep neural networks for face emotion recognition,” Pattern Recognition Letters, vol. 115, pp. 101–106, 2018. \n",
    "\n",
    "[37] D. F. Dinges et al, “Optical computer recognition of facial expressions associated with stress induced by performance demands,” Aviation, Space, and Environmental Medicine, vol. 76, pp. B172–82, 2005. \n",
    "\n",
    "[38] Y. Zhu et al, “Automated depression diagnosis based on deep networks to encode facial appearance and dynamics,” T-Affc, vol. 9, no. 4, pp. 578–584, 2018. \n",
    "\n",
    "[39] S. Alghowinem et al, “Multimodal depression detection: Fusion analysis of paralinguistic head pose and eye gaze behaviors,” T-Affc, vol. 9, no. 4, pp. 478–490, 2018\n",
    "\n"
   ]
  }
 ],
 "metadata": {
  "colab": {
   "collapsed_sections": [],
   "name": "bank _term_deposits_suscription.ipynb",
   "provenance": []
  },
  "kernelspec": {
   "display_name": "Python 3",
   "language": "python",
   "name": "python3"
  },
  "language_info": {
   "codemirror_mode": {
    "name": "ipython",
    "version": 3
   },
   "file_extension": ".py",
   "mimetype": "text/x-python",
   "name": "python",
   "nbconvert_exporter": "python",
   "pygments_lexer": "ipython3",
   "version": "3.8.2"
  }
 },
 "nbformat": 4,
 "nbformat_minor": 4
}
